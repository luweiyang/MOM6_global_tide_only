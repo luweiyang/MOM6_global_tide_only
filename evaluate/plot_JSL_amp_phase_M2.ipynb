{
 "cells": [
  {
   "cell_type": "code",
   "execution_count": null,
   "id": "975dfd37-0e36-4f22-bdff-1a2eec1aba33",
   "metadata": {},
   "outputs": [],
   "source": [
    "%matplotlib inline\n",
    "import numpy as np\n",
    "import xarray as xr\n",
    "import cmocean as cm\n",
    "import cartopy.crs as ccrs\n",
    "import matplotlib.ticker\n",
    "import matplotlib.pyplot as plt\n",
    "from matplotlib.colors import LogNorm\n",
    "import matplotlib.gridspec as gridspec"
   ]
  },
  {
   "cell_type": "code",
   "execution_count": null,
   "id": "c1a72020-14b1-4ffc-badd-57552a681509",
   "metadata": {},
   "outputs": [],
   "source": [
    "data_JSL = xr.open_dataset('/g/data/nm03/lxy581/evaluate/amp_phase/tides_025_JSL_global.nc')\n",
    "lon = np.array(data_JSL['xh'])\n",
    "lat = np.array(data_JSL['yh'])\n",
    "am = data_JSL.amp\n",
    "ph = data_JSL.phase + 180"
   ]
  },
  {
   "cell_type": "code",
   "execution_count": null,
   "id": "da907508-53f2-465e-8064-b64276b19aa6",
   "metadata": {},
   "outputs": [],
   "source": [
    "topog = xr.open_dataset('/home/581/lxy581/tidal_param/MOM6-examples/ocean_only/tides_025/INPUT/ocean_topog.nc')\n",
    "depth = topog.depth\n",
    "depth_z = np.array(depth)\n",
    "depth_z[depth_z==0]=np.nan\n",
    "grid_JSL = xr.open_dataset('/g/data/nm03/lxy581/archive/tides_025_JSL/output012/ocean_static.nc')\n",
    "lon = np.array(grid_JSL['geolon'])\n",
    "lat = np.array(grid_JSL['geolat'])\n",
    "yh, xh = grid_JSL.yh, grid_JSL.xh\n",
    "depth_da = xr.Dataset(data_vars={'depth_xr': (('yh','xh'), depth_z),\n",
    "                                }, \n",
    "                      coords={'lon': (('yh', 'xh'), lon),\n",
    "                              'lat': (('yh', 'xh'), lat)})\n",
    "land = xr.where(np.isnan(depth_da.depth_xr[:,:].rename('land')), 1, np.nan)"
   ]
  },
  {
   "cell_type": "code",
   "execution_count": null,
   "id": "b0fab8a8-a51c-4541-8c6c-31ebdb4ce467",
   "metadata": {},
   "outputs": [],
   "source": [
    "land.plot(x='lon',y='lat')"
   ]
  },
  {
   "cell_type": "code",
   "execution_count": null,
   "id": "ec48dbd5-adb3-4df9-ac7d-5e7e0fca63a9",
   "metadata": {},
   "outputs": [],
   "source": [
    "varlist = ['am','ph']\n",
    "title   = ['amplitude (m)', 'phase (deg)']\n",
    "\n",
    "fig = plt.figure(figsize=(20, 8))\n",
    "axs = []\n",
    "\n",
    "gridsubs = gridspec.GridSpec(1,2)\n",
    "for gs in gridsubs:\n",
    "    axs.append(plt.subplot(gs))\n",
    "\n",
    "print('Start plotting...')\n",
    "for I, (ax, var) in enumerate(zip(axs, varlist)):\n",
    "    print(I)\n",
    "\n",
    "    ax.spines['top'].set_visible(False)\n",
    "    ax.spines['right'].set_visible(False)\n",
    "    ax.spines['bottom'].set_visible(False)\n",
    "    ax.spines['left'].set_visible(False)\n",
    "    ax.get_xaxis().set_ticks([])\n",
    "    ax.get_yaxis().set_ticks([])\n",
    "\n",
    "    # print('Plotting topog...')\n",
    "    if I<2:\n",
    "        ax = plt.axes(projection=ccrs.Robinson(central_longitude=-100))\n",
    "        # Add model land mask\n",
    "        land.plot.contourf(ax=ax, x='lon', y='lat', colors='darkgrey', zorder=2, transform=ccrs.PlateCarree(), add_colorbar=False)\n",
    "        # Add model coastline\n",
    "        land.fillna(0).plot.contour(ax=ax, x='lon', y='lat', colors='k', levels=[0, 1], transform=ccrs.PlateCarree(), add_colorbar=False, linewidths=2)\n",
    "\n",
    "    print('Plotting amp...')\n",
    "    if I==0:\n",
    "        p1 = ax.pcolormesh(lon, lat, globals()[var], transform=ccrs.PlateCarree(), cmap=cm.cm.balance, vmin=0, vmax=1) #norm=LogNorm(vmin=1e-2, vmax=1e-0)\n",
    "        tick_locs = np.array([0,0.2,0.4,0.6,0.8,1.0])\n",
    "        tick_labels = np.array([\"0\",\"0.2\",\"0.4\",\"0.6\",\"0.8\",\"1.0\"])\n",
    "        ax_cb = plt.axes([0.45, 0.32, 0.008, 0.31])\n",
    "        cb1 = plt.colorbar(p1, cax=ax_cb, orientation='vertical', extend='both')\n",
    "        cb1.ax.set_ylabel('Amplitude (m)',fontsize=20,rotation=270,labelpad=25);\n",
    "        cb1.ax.tick_params(labelsize=16)\n",
    "        cb1.locator   = matplotlib.ticker.FixedLocator(tick_locs)\n",
    "        cb1.formatter = matplotlib.ticker.FixedFormatter(tick_labels)\n",
    "        ax.set_position([0.1,0.1,0.33,0.75])\n",
    "\n",
    "    print('Plotting phase...')\n",
    "    if I==1:\n",
    "        p1 = ax.pcolormesh(lon, lat, globals()[var], transform=ccrs.PlateCarree(), cmap=cm.cm.phase, vmin=0, vmax=360)\n",
    "        tick_locs = np.array([0,90,180,270,360])\n",
    "        tick_labels = np.array([\"0$^{\\circ}$\",\"90$^{\\circ}$\",\"180$^{\\circ}$\",\"270$^{\\circ}$\",\"360$^{\\circ}$\"])\n",
    "        ax_cb = plt.axes([0.9, 0.32, 0.008, 0.31])\n",
    "        cb1 = plt.colorbar(p1, cax=ax_cb, orientation='vertical', extend='both')\n",
    "        cb1.ax.set_ylabel('Phase',fontsize=20,rotation=270,labelpad=25);\n",
    "        cb1.ax.tick_params(labelsize=16)\n",
    "        cb1.locator   = matplotlib.ticker.FixedLocator(tick_locs)\n",
    "        cb1.formatter = matplotlib.ticker.FixedFormatter(tick_labels)\n",
    "        ax.set_position([0.55,0.1,0.33,0.75])\n",
    "\n",
    "print('Saving...')\n",
    "plt.savefig('/g/data/nm03/lxy581/evaluate/amp_phase/MOM6_JSL_M2.png', dpi=100, bbox_inches='tight')"
   ]
  }
 ],
 "metadata": {
  "kernelspec": {
   "display_name": "Python [conda env:analysis3-unstable]",
   "language": "python",
   "name": "conda-env-analysis3-unstable-py"
  },
  "language_info": {
   "codemirror_mode": {
    "name": "ipython",
    "version": 3
   },
   "file_extension": ".py",
   "mimetype": "text/x-python",
   "name": "python",
   "nbconvert_exporter": "python",
   "pygments_lexer": "ipython3",
   "version": "3.10.13"
  }
 },
 "nbformat": 4,
 "nbformat_minor": 5
}
