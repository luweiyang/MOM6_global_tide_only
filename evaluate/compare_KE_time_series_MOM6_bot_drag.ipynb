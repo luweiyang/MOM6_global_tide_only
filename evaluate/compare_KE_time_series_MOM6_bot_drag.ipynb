{
 "cells": [
  {
   "cell_type": "markdown",
   "id": "87ee643d-fc2a-4c4d-b44c-05c9fcb486dc",
   "metadata": {},
   "source": [
    "# Compare the surface KE simulated by the tide-only 1-layer global MOM6 with only bottom drag\n",
    "\n",
    "Bottom drag only: \n",
    "\n",
    "/scratch/nm03/lxy581/mom6/archive/tides_01_global_cdrag_const/\n",
    "\n",
    "/g/data/nm03/lxy581/archive/tides_01_global_cdrag_const/"
   ]
  },
  {
   "cell_type": "code",
   "execution_count": null,
   "id": "ff70baf7-70a3-460b-b498-88fe6a418844",
   "metadata": {},
   "outputs": [],
   "source": [
    "%matplotlib inline\n",
    "\n",
    "import numpy as np\n",
    "import xarray as xr\n",
    "import netCDF4 as nc\n",
    "import cmocean as cm\n",
    "import cartopy.crs as ccrs\n",
    "import matplotlib.ticker\n",
    "import matplotlib.pyplot as plt\n",
    "from matplotlib.colors import LogNorm\n",
    "from dask.distributed import Client\n",
    "\n",
    "import warnings\n",
    "warnings.filterwarnings('ignore')"
   ]
  },
  {
   "cell_type": "code",
   "execution_count": null,
   "id": "f88c365d-f4f4-48aa-8b0f-1a077bc5dd6d",
   "metadata": {},
   "outputs": [],
   "source": [
    "client = Client()\n",
    "client"
   ]
  },
  {
   "cell_type": "markdown",
   "id": "a61bea66-1c30-4506-b1f2-e992ff1ad0a6",
   "metadata": {},
   "source": [
    "### MOM6: Load the global KE"
   ]
  },
  {
   "cell_type": "code",
   "execution_count": null,
   "id": "0a5a7ad8-60f7-426c-bd9c-d86dd3cd4eb5",
   "metadata": {},
   "outputs": [],
   "source": [
    "def global_spatial_mean_KE(file):\n",
    "    data = xr.open_dataset(file)\n",
    "    mKE = np.squeeze(data['KE'].mean(dim=[\"yh\",\"xh\"],skipna=True).values)\n",
    "    return mKE"
   ]
  },
  {
   "cell_type": "code",
   "execution_count": null,
   "id": "5f76bb89-a7b3-4415-a6f3-1275e898900b",
   "metadata": {},
   "outputs": [],
   "source": [
    "# dir_cdrag = '/g/data/nm03/lxy581/archive/tides_01_global_cdrag_const'\n",
    "# dir_cdrag = '/g/data/nm03/lxy581/archive/tides_01_global_sigma_1deg'\n",
    "# dir_cdrag = '/g/data/nm03/lxy581/archive/tides_01_global_sigma_033deg'\n",
    "# dir_cdrag = '/scratch/nm03/lxy581/mom6/archive/tides_008_global_sigma_00'\n",
    "dir_cdrag = '/scratch/nm03/lxy581/mom6/archive/tides_004_global_sigma_x03'"
   ]
  },
  {
   "cell_type": "code",
   "execution_count": null,
   "id": "38fe76b2-e01a-4135-9976-6692afcd9718",
   "metadata": {},
   "outputs": [],
   "source": [
    "def mKE_time_series(dir,n_folder):\n",
    "    mKE = np.full((n_folder*240),np.nan)\n",
    "    for i in range(n_folder):\n",
    "        file = dir + '/output%03d/ocean_interior.nc'%i\n",
    "        print(file)\n",
    "        mKE[i*240:(i+1)*240] = global_spatial_mean_KE(file)\n",
    "    return mKE"
   ]
  },
  {
   "cell_type": "code",
   "execution_count": null,
   "id": "e4a0c7fe-cabb-43ed-95aa-450d622d6e80",
   "metadata": {},
   "outputs": [],
   "source": [
    "def mKE_time_series_daily(mKE):\n",
    "    nday = int(mKE.size/24)\n",
    "    mKE_daily = np.full(nday,np.nan)\n",
    "    for i in range(nday):\n",
    "        mKE_daily[i] = np.nanmean(mKE[i*24:(i+1)*24-1])\n",
    "    return mKE_daily"
   ]
  },
  {
   "cell_type": "code",
   "execution_count": null,
   "id": "d0f09966-0e35-4dc7-9999-8957913d2793",
   "metadata": {},
   "outputs": [],
   "source": [
    "n_folder = 3\n",
    "mKE_cdrag = mKE_time_series(dir_cdrag,n_folder)"
   ]
  },
  {
   "cell_type": "code",
   "execution_count": null,
   "id": "8ff1cbf1-d5fb-4908-b3ae-6e2e01509cb7",
   "metadata": {},
   "outputs": [],
   "source": [
    "mKE_daily = mKE_time_series_daily(mKE_cdrag)"
   ]
  },
  {
   "cell_type": "code",
   "execution_count": null,
   "id": "b79abced-6938-4eac-8949-00025d5c4067",
   "metadata": {},
   "outputs": [],
   "source": [
    "print(mKE_daily)"
   ]
  },
  {
   "cell_type": "markdown",
   "id": "16cf63f5-93e8-43b2-8ca9-b36d461b61a6",
   "metadata": {},
   "source": [
    "### Plot the time series of mean KE"
   ]
  },
  {
   "cell_type": "code",
   "execution_count": null,
   "id": "1d05ba30-f9a3-4b0c-839a-30ac4d1a7c4d",
   "metadata": {},
   "outputs": [],
   "source": [
    "fig = plt.figure(figsize=(10,4))\n",
    "plt.plot(np.arange(n_folder*240),mKE_cdrag,'k',label='hourly',linewidth=1,alpha=0.4)\n",
    "plt.plot(np.arange(12,n_folder*240,24),mKE_daily,'r',label='daily',linewidth=2)\n",
    "plt.scatter(np.arange(n_folder*240),mKE_cdrag,s=5,c='k',marker='o',alpha=0.4)\n",
    "plt.scatter(np.arange(12,n_folder*240,24),mKE_daily,s=20,c='r',marker='o')\n",
    "# plt.title('Bottom drag only',fontsize=24)\n",
    "plt.title('1/25-degree',fontsize=24)\n",
    "plt.grid(True)\n",
    "plt.legend(loc=4,fontsize=16)\n",
    "plt.xticks(np.array([0,24*5-1,24*10-1,24*15-1,24*20-1,24*25-1,24*30-1]),labels=np.array(['0','5','10','15','20','25','30']),fontsize=16)\n",
    "plt.yticks(np.array([0,0.001,0.002,0.003,0.004]),labels=np.array(['0','10','20','30','40']),fontsize=16)\n",
    "plt.xlabel('days',fontsize=20)\n",
    "plt.ylabel('mean KE (cm$^2$ s$^{-2}$)',fontsize=20)\n",
    "# plt.savefig('/g/data/nm03/lxy581/exps_figs/KE_time_series_MOM6_01_cdrag_shelf.png', dpi=300, bbox_inches='tight')\n",
    "# plt.savefig('/g/data/nm03/lxy581/exps_figs/KE_time_series_MOM6_01_sigma_1deg.png', dpi=300, bbox_inches='tight')\n",
    "# plt.savefig('/g/data/nm03/lxy581/exps_figs/KE_time_series_MOM6_01_sigma_033deg.png', dpi=300, bbox_inches='tight')\n",
    "# plt.savefig('/g/data/nm03/lxy581/exps_figs/KE_time_series_MOM6_008_sigma_00.png', dpi=300, bbox_inches='tight')"
   ]
  }
 ],
 "metadata": {
  "kernelspec": {
   "display_name": "Python [conda env:analysis3-24.04] *",
   "language": "python",
   "name": "conda-env-analysis3-24.04-py"
  },
  "language_info": {
   "codemirror_mode": {
    "name": "ipython",
    "version": 3
   },
   "file_extension": ".py",
   "mimetype": "text/x-python",
   "name": "python",
   "nbconvert_exporter": "python",
   "pygments_lexer": "ipython3",
   "version": "3.10.14"
  }
 },
 "nbformat": 4,
 "nbformat_minor": 5
}
