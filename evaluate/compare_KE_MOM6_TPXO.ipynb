{
 "cells": [
  {
   "cell_type": "markdown",
   "id": "87ee643d-fc2a-4c4d-b44c-05c9fcb486dc",
   "metadata": {},
   "source": [
    "# Compare the surface KE simulated in MOM6 experiments with obs\n",
    "\n",
    "MOM6 experiments: 1-layer M2-tide-only global runs \n",
    "\n",
    "The drag coefficients are computed using the full formula (with frequency dependence)\n",
    "\n",
    "**TPXO**\n",
    "\n",
    "/g/data/nm03/cjs157/v45/tidal_mom/input/m2.nc\n",
    "\n",
    "**JSL**\n",
    "\n",
    "/g/data/nm03/lxy581/archive/tides_025_JSL/\n",
    "\n",
    "**SAH M2 (mag):**\n",
    "\n",
    "/g/data/nm03/lxy581/archive/tides_025_SAH_M2_v0/\n",
    "\n",
    "**SAH M2 (x- and y-dir):** \n",
    "\n",
    "/g/data/nm03/lxy581/archive/tides_025_SAH_M2_v1/\n",
    "\n",
    "12-th month: output011/ocean_interior.nc"
   ]
  },
  {
   "cell_type": "code",
   "execution_count": 1,
   "id": "ff70baf7-70a3-460b-b498-88fe6a418844",
   "metadata": {},
   "outputs": [],
   "source": [
    "%matplotlib inline\n",
    "\n",
    "import numpy as np\n",
    "import xarray as xr\n",
    "import netCDF4 as nc\n",
    "import cmocean as cm\n",
    "import cartopy.crs as ccrs\n",
    "import matplotlib.ticker\n",
    "import matplotlib.pyplot as plt\n",
    "from matplotlib.colors import LogNorm\n",
    "\n",
    "import warnings\n",
    "warnings.filterwarnings('ignore')"
   ]
  },
  {
   "cell_type": "markdown",
   "id": "a61bea66-1c30-4506-b1f2-e992ff1ad0a6",
   "metadata": {},
   "source": [
    "### MOM6: Calculate the time- (over the last month) and global-mean tidal KE"
   ]
  },
  {
   "cell_type": "code",
   "execution_count": 2,
   "id": "ec15f66c-9d52-402a-a1ec-788076d20ed8",
   "metadata": {},
   "outputs": [],
   "source": [
    "def global_monthly_mean_KE(file):\n",
    "    data = xr.open_dataset(file)\n",
    "    KE = 0.5*data['speed']**2\n",
    "    mKE = KE.mean(dim=[\"time\",\"yh\",\"xh\"],skipna=True).values\n",
    "    return mKE"
   ]
  },
  {
   "cell_type": "markdown",
   "id": "478fced6-3e09-4626-b536-78f9271e051b",
   "metadata": {},
   "source": [
    "### TPXO: Calculate the global-mean tidal KE "
   ]
  },
  {
   "cell_type": "code",
   "execution_count": 3,
   "id": "e4def020-8864-448d-b2e9-6f2f65c659a4",
   "metadata": {},
   "outputs": [],
   "source": [
    "def global_mean_KE(obs):\n",
    "    data = xr.open_dataset(obs)\n",
    "    KE = 0.5*(0.5*data['ut']**2+0.5*data['vt']**2)\n",
    "    mKE = KE.mean(dim=[\"lon\",\"lat\"],skipna=True).values\n",
    "    return mKE"
   ]
  },
  {
   "cell_type": "code",
   "execution_count": 4,
   "id": "5f76bb89-a7b3-4415-a6f3-1275e898900b",
   "metadata": {},
   "outputs": [],
   "source": [
    "file_obs = '/g/data/nm03/cjs157/v45/tidal_mom/input/m2.nc'\n",
    "file_JSL = '/g/data/nm03/lxy581/archive/tides_025_JSL/output011/ocean_interior.nc'\n",
    "file_mag = '/g/data/nm03/lxy581/archive/tides_025_SAH_M2_v0/output011/ocean_interior.nc'\n",
    "file_x_y = '/g/data/nm03/lxy581/archive/tides_025_SAH_M2_v1/output011/ocean_interior.nc'"
   ]
  },
  {
   "cell_type": "code",
   "execution_count": 5,
   "id": "e1eb5efa-2ea6-4ffb-996f-793c3142a136",
   "metadata": {},
   "outputs": [
    {
     "name": "stdout",
     "output_type": "stream",
     "text": [
      "0.3.0\n",
      "0.0017902897350043328\n"
     ]
    }
   ],
   "source": [
    "mKE_obs = global_mean_KE(file_obs)\n",
    "print(mKE_obs)"
   ]
  },
  {
   "cell_type": "code",
   "execution_count": 6,
   "id": "03aa8136-d0ab-43fc-9b61-ea7b6cd42f74",
   "metadata": {},
   "outputs": [
    {
     "name": "stdout",
     "output_type": "stream",
     "text": [
      "0.0019126316\n"
     ]
    }
   ],
   "source": [
    "mKE_JSL = global_monthly_mean_KE(file_JSL)\n",
    "print(mKE_JSL)"
   ]
  },
  {
   "cell_type": "code",
   "execution_count": 7,
   "id": "4455f2df-4e1d-44c1-b8c5-e663ff14fff9",
   "metadata": {},
   "outputs": [
    {
     "name": "stdout",
     "output_type": "stream",
     "text": [
      "0.00282875\n"
     ]
    }
   ],
   "source": [
    "mKE_mag = global_monthly_mean_KE(file_mag)\n",
    "print(mKE_mag)"
   ]
  },
  {
   "cell_type": "code",
   "execution_count": 8,
   "id": "57046c12",
   "metadata": {},
   "outputs": [
    {
     "name": "stdout",
     "output_type": "stream",
     "text": [
      "0.0029670538\n"
     ]
    }
   ],
   "source": [
    "mKE_x_y = global_monthly_mean_KE(file_x_y)\n",
    "print(mKE_x_y)"
   ]
  }
 ],
 "metadata": {
  "kernelspec": {
   "display_name": "Python [conda env:analysis3-unstable]",
   "language": "python",
   "name": "conda-env-analysis3-unstable-py"
  },
  "language_info": {
   "codemirror_mode": {
    "name": "ipython",
    "version": 3
   },
   "file_extension": ".py",
   "mimetype": "text/x-python",
   "name": "python",
   "nbconvert_exporter": "python",
   "pygments_lexer": "ipython3",
   "version": "3.10.13"
  }
 },
 "nbformat": 4,
 "nbformat_minor": 5
}
