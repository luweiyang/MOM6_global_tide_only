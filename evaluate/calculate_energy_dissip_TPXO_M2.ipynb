{
 "cells": [
  {
   "cell_type": "code",
   "execution_count": 1,
   "id": "36b38671-cb26-4270-a2d0-5803d0cad8e5",
   "metadata": {},
   "outputs": [],
   "source": [
    "%matplotlib inline\n",
    "import time\n",
    "import numpy as np\n",
    "import xesmf as xe\n",
    "import xarray as xr\n",
    "import netCDF4 as nc\n",
    "import cmocean as cm\n",
    "import cartopy.crs as ccrs\n",
    "import matplotlib.ticker\n",
    "import matplotlib.pyplot as plt\n",
    "from matplotlib.colors import LogNorm\n",
    "import matplotlib.gridspec as gridspec\n",
    "import warnings\n",
    "warnings.filterwarnings('ignore')"
   ]
  },
  {
   "cell_type": "code",
   "execution_count": 2,
   "id": "01ff8d50-c63d-4c8e-a0bd-3f80104dad90",
   "metadata": {},
   "outputs": [],
   "source": [
    "g = 9.8\n",
    "rho0 = 1035.0\n",
    "m2_period = 236 # in hr (19 cycles)\n",
    "radius = 6378e+3"
   ]
  },
  {
   "cell_type": "code",
   "execution_count": 3,
   "id": "de2c524a-22f1-4c75-aa35-c366aadc136d",
   "metadata": {},
   "outputs": [],
   "source": [
    "tpxo = xr.open_dataset('/g/data/nm03/TPXO9v5a/h_tpxo9.v5a.nc')\n",
    "tpgd = xr.open_dataset('/g/data/nm03/TPXO9v5a/gridtpxo9v5a.nc')\n",
    "pha_tpxo = (tpxo.hp.isel({'nc':0}).transpose()-180) /180 *np.pi\n",
    "amp_tpxo = tpxo.ha.isel({'nc':0}).transpose()\n",
    "lon_z = np.array(tpgd.lon_z.transpose())/180 *np.pi\n",
    "lat_z = np.array(tpgd.lat_z.transpose())/180 *np.pi\n",
    "lon_u = np.array(tpgd.lon_u.transpose())/180 *np.pi\n",
    "lat_u = np.array(tpgd.lat_u.transpose())/180 *np.pi\n",
    "lon_v = np.array(tpgd.lon_v.transpose())/180 *np.pi\n",
    "lat_v = np.array(tpgd.lat_v.transpose())/180 *np.pi\n",
    "hz_tpxo = np.array(tpgd.hz.transpose())\n",
    "hu_tpxo = np.array(tpgd.hu.transpose())\n",
    "hv_tpxo = np.array(tpgd.hv.transpose())\n",
    "ny, nx  = np.array(tpgd.ny), np.array(tpgd.nx)"
   ]
  },
  {
   "cell_type": "markdown",
   "id": "ddc73f75-7343-4b25-beba-d016ccf3c63e",
   "metadata": {},
   "source": [
    "### Construct TPXO elevation $\\eta$"
   ]
  },
  {
   "cell_type": "code",
   "execution_count": 4,
   "id": "f8b2b9ad-0180-41c9-a31a-e8970bced3a5",
   "metadata": {},
   "outputs": [],
   "source": [
    "t_12cyc = np.arange(m2_period)\n",
    "nt_tpxo = t_12cyc.size\n",
    "omega_m2 = np.full((nt_tpxo,ny.size,nx.size),(2*np.pi/(12.4206014)))\n",
    "elev_tpxo = np.array(amp_tpxo)[None,:,:] * np.cos(omega_m2 * t_12cyc[:,None,None] - np.array(pha_tpxo)[None,:,:])"
   ]
  },
  {
   "cell_type": "markdown",
   "id": "b2bf7773-40c0-4e0c-8f05-0041b7661f09",
   "metadata": {},
   "source": [
    "### Construct $\\eta_{eq}$ and $\\eta_{sal}$"
   ]
  },
  {
   "cell_type": "code",
   "execution_count": 5,
   "id": "a1113428-5e6b-4a4a-ae4c-3da3ee3eb620",
   "metadata": {},
   "outputs": [],
   "source": [
    "love = 0.693\n",
    "eta_eq = love * 0.242334 * np.cos(np.pi/180*lat_z[None,:,:])**2 * np.exp(-1j*(omega_m2 * t_12cyc[:,None,None]+2*np.pi/180*lon_z[None,:,:]))"
   ]
  },
  {
   "cell_type": "code",
   "execution_count": 6,
   "id": "c385d64b-f684-4b2e-8f6f-ae4bd6c8e8b7",
   "metadata": {},
   "outputs": [],
   "source": [
    "SAL = xr.open_dataset('/g/data/nm03/OTPSnc/DATA/load_file.nc')\n",
    "pha_SAL = (SAL.hp.isel({'nc':0}).transpose()-180) /180 *np.pi\n",
    "amp_SAL = SAL.ha.isel({'nc':0}).transpose()\n",
    "eta_sal = np.array(amp_SAL)[None,:,:] * np.cos(omega_m2 * t_12cyc[:,None,None] - np.array(pha_SAL)[None,:,:])"
   ]
  },
  {
   "cell_type": "code",
   "execution_count": 7,
   "id": "a92d8e68-ca7d-45c6-a638-13f8c8d95efe",
   "metadata": {},
   "outputs": [],
   "source": [
    "eta = eta_sal + eta_eq"
   ]
  },
  {
   "cell_type": "code",
   "execution_count": 8,
   "id": "f880d833-32d2-4412-82f3-413f7ec5e398",
   "metadata": {},
   "outputs": [
    {
     "data": {
      "text/plain": [
       "(236, 1081, 2160)"
      ]
     },
     "execution_count": 8,
     "metadata": {},
     "output_type": "execute_result"
    }
   ],
   "source": [
    "eta.shape"
   ]
  },
  {
   "cell_type": "code",
   "execution_count": 9,
   "id": "abf09273-9bfa-486b-a8ba-fc0fb56d0f95",
   "metadata": {},
   "outputs": [],
   "source": [
    "tpxo_vel = xr.open_dataset('/g/data/nm03/TPXO9v5a/u_tpxo9.v5a.nc')\n",
    "ua_tpxo = np.array(tpxo_vel.ua.isel({'nc':0}).transpose()/100)\n",
    "va_tpxo = np.array(tpxo_vel.va.isel({'nc':0}).transpose()/100)\n",
    "up_tpxo = np.array((tpxo_vel.up.isel({'nc':0}).transpose() - 180) /180 *np.pi +13*np.pi/16)\n",
    "vp_tpxo = np.array((tpxo_vel.vp.isel({'nc':0}).transpose() - 180) /180 *np.pi +13*np.pi/16)"
   ]
  },
  {
   "cell_type": "code",
   "execution_count": 10,
   "id": "38e5cedd-eb06-4cdd-8a82-6e259eddeb58",
   "metadata": {},
   "outputs": [],
   "source": [
    "u_tpxo = ua_tpxo[None,:,:] * np.cos(omega_m2 * t_12cyc[:,None,None] - up_tpxo[None,:,:]) * hu_tpxo[None,:,:]\n",
    "v_tpxo = va_tpxo[None,:,:] * np.cos(omega_m2 * t_12cyc[:,None,None] - vp_tpxo[None,:,:]) * hv_tpxo[None,:,:]"
   ]
  },
  {
   "cell_type": "markdown",
   "id": "c392eca7-fa66-40c4-974f-4f3b3af9c513",
   "metadata": {},
   "source": [
    "### Interp eta to u and v points"
   ]
  },
  {
   "cell_type": "code",
   "execution_count": 11,
   "id": "1008b822-2421-4bf2-8703-a15326a20834",
   "metadata": {},
   "outputs": [],
   "source": [
    "ds_elev_z = xr.Dataset(data_vars={\"elev\": (('nt','ny','nx'), elev_tpxo),\n",
    "                                 },\n",
    "                       coords={\"lon\": (('ny', 'nx'), lon_z), \n",
    "                               \"lat\": (('ny', 'nx'), lat_z)})\n",
    "ds_grid_u = xr.Dataset({\"lat\": ([\"ny\",\"nx\"], lat_u),\n",
    "                        \"lon\": ([\"ny\",\"nx\"], lon_u)})\n",
    "ds_grid_v = xr.Dataset({\"lat\": ([\"ny\",\"nx\"], lat_v),\n",
    "                        \"lon\": ([\"ny\",\"nx\"], lon_v)})\n",
    "\n",
    "regridder_z2u = xe.Regridder(ds_elev_z, ds_grid_u, \"bilinear\", extrap_method=\"inverse_dist\")\n",
    "regridder_z2v = xe.Regridder(ds_elev_z, ds_grid_v, \"bilinear\", extrap_method=\"inverse_dist\")\n",
    "\n",
    "ds_elev_u = regridder_z2u(ds_elev_z)\n",
    "ds_elev_v = regridder_z2v(ds_elev_z)"
   ]
  },
  {
   "cell_type": "code",
   "execution_count": 12,
   "id": "b5f0f537-94d1-486b-9638-029e8c402d27",
   "metadata": {},
   "outputs": [
    {
     "name": "stdout",
     "output_type": "stream",
     "text": [
      "(236, 1081, 2160)\n",
      "(236, 1081, 2160)\n"
     ]
    }
   ],
   "source": [
    "elev_u = np.array(ds_elev_u[\"elev\"])\n",
    "elev_v = np.array(ds_elev_v[\"elev\"])\n",
    "print(elev_u.shape)\n",
    "print(elev_v.shape)"
   ]
  },
  {
   "cell_type": "code",
   "execution_count": 13,
   "id": "f6906678-b63f-407e-b390-10911b9278d7",
   "metadata": {},
   "outputs": [],
   "source": [
    "# interp from v to z points\n",
    "divP1 = 1/(radius*np.cos(lat_v[None,1:-1,:])) * \\\n",
    "        (v_tpxo[:,2:,:]*elev_v[:,2:,:]*np.cos(lat_v[None,2:,:]) - v_tpxo[:,:-2,:]*elev_v[:,:-2,:]*np.cos(lat_v[None,:-2,:])) / (lat_v[None,2:,:] - lat_v[None,:-2,:])\n",
    "divP2 = 1/(radius*np.cos(lat_u[None,:,1:-1])) * (u_tpxo[:,:,2:]*elev_u[:,:,2:] - u_tpxo[:,:,:-2]*elev_u[:,:,:-2]) / (lon_u[None,:,2:] - lon_u[None,:,:-2])       "
   ]
  },
  {
   "cell_type": "code",
   "execution_count": 14,
   "id": "47082e43-b5de-4519-b725-7f59025d8f21",
   "metadata": {},
   "outputs": [],
   "source": [
    "ds_divP_v = xr.Dataset(data_vars={\"divP1\": (('nt','ny','nx'), divP1),\n",
    "                                 },\n",
    "                       coords={\"lon\": (('ny', 'nx'), lon_u[1:-1,:]), \n",
    "                               \"lat\": (('ny', 'nx'), lat_u[1:-1,:])})\n",
    "\n",
    "ds_divP_u = xr.Dataset(data_vars={\"divP2\": (('nt','ny','nx'), divP2),\n",
    "                                 },\n",
    "                       coords={\"lon\": (('ny', 'nx'), lon_u[:,1:-1]), \n",
    "                               \"lat\": (('ny', 'nx'), lat_u[:,1:-1])})\n",
    "\n",
    "ds_grid_z = xr.Dataset({\"lat\": ([\"ny\",\"nx\"], lat_z),\n",
    "                        \"lon\": ([\"ny\",\"nx\"], lon_z)})\n",
    "\n",
    "regridder_div_v2z = xe.Regridder(ds_divP_v, ds_grid_z, \"bilinear\", extrap_method=\"inverse_dist\")\n",
    "regridder_div_u2z = xe.Regridder(ds_divP_u, ds_grid_z, \"bilinear\", extrap_method=\"inverse_dist\")\n",
    "\n",
    "ds_divP1_z = regridder_div_v2z(ds_divP_v)\n",
    "ds_divP2_z = regridder_div_u2z(ds_divP_u)"
   ]
  },
  {
   "cell_type": "code",
   "execution_count": 15,
   "id": "65ee9595-33be-4d36-b197-f2a4d24df3b7",
   "metadata": {},
   "outputs": [
    {
     "name": "stdout",
     "output_type": "stream",
     "text": [
      "(1081, 2160)\n"
     ]
    }
   ],
   "source": [
    "P = g * rho0 * np.nanmean(np.array(ds_divP1_z[\"divP1\"] + ds_divP2_z[\"divP2\"]), axis=0) \n",
    "print(P.shape)"
   ]
  },
  {
   "cell_type": "code",
   "execution_count": 16,
   "id": "0d7ba586-1924-4b4f-997b-0c9c9c693448",
   "metadata": {},
   "outputs": [],
   "source": [
    "grad_the = 1/radius * (eta[:,2:,:]-eta[:,:-2,:]) / (lat_z[None,2:,:]-lat_z[None,:-2,:])\n",
    "grad_phi = 1/(radius * np.cos(lat_z[None,:,1:-1])) * (eta[:,:,2:]-eta[:,:,:-2]) / (lon_z[None,:,2:]-lon_z[None,:,:-2])"
   ]
  },
  {
   "cell_type": "code",
   "execution_count": 17,
   "id": "6f4aa033-e29c-41cf-85f2-bbc998f76f9e",
   "metadata": {},
   "outputs": [],
   "source": [
    "ds_grad_zlat = xr.Dataset(data_vars={\"grad_the\": (('nt','ny','nx'), grad_the),\n",
    "                                    },\n",
    "                          coords={\"lon\": (('ny', 'nx'), lon_z[1:-1,:]), \n",
    "                                  \"lat\": (('ny', 'nx'), lat_z[1:-1,:])})\n",
    "\n",
    "ds_grad_zlon = xr.Dataset(data_vars={\"grad_phi\": (('nt','ny','nx'), grad_phi),\n",
    "                                    },\n",
    "                          coords={\"lon\": (('ny', 'nx'), lon_z[:,1:-1]), \n",
    "                                  \"lat\": (('ny', 'nx'), lat_z[:,1:-1])})\n",
    "\n",
    "ds_grid_u = xr.Dataset({\"lat\": ([\"ny\",\"nx\"], lat_u),\n",
    "                        \"lon\": ([\"ny\",\"nx\"], lon_u)})\n",
    "\n",
    "ds_grid_v = xr.Dataset({\"lat\": ([\"ny\",\"nx\"], lat_v),\n",
    "                        \"lon\": ([\"ny\",\"nx\"], lon_v)})\n",
    "\n",
    "regridder_grad_z2v = xe.Regridder(ds_grad_zlat, ds_grid_v, \"bilinear\", extrap_method=\"inverse_dist\")\n",
    "regridder_grad_z2u = xe.Regridder(ds_grad_zlon, ds_grid_u, \"bilinear\", extrap_method=\"inverse_dist\")\n",
    "\n",
    "ds_grad_v = regridder_grad_z2v(ds_grad_zlat)\n",
    "ds_grad_u = regridder_grad_z2u(ds_grad_zlon)\n",
    "\n",
    "grad_v = np.array(ds_grad_v[\"grad_the\"])\n",
    "grad_u = np.array(ds_grad_u[\"grad_phi\"])"
   ]
  },
  {
   "cell_type": "code",
   "execution_count": 18,
   "id": "7f88b6d8-6b4d-4770-b886-ac69c749fe3c",
   "metadata": {},
   "outputs": [],
   "source": [
    "ds_grad_v = xr.Dataset(data_vars={\"gradW1\": (('nt','ny','nx'), -np.array(v_tpxo)*grad_v),\n",
    "                                 },\n",
    "                       coords={\"lon\": (('ny', 'nx'), lon_v), \n",
    "                               \"lat\": (('ny', 'nx'), lat_v)})\n",
    "\n",
    "ds_grad_u = xr.Dataset(data_vars={\"gradW2\": (('nt','ny','nx'), np.array(u_tpxo)*grad_u),\n",
    "                                 },\n",
    "                       coords={\"lon\": (('ny', 'nx'), lon_u), \n",
    "                               \"lat\": (('ny', 'nx'), lat_u)})\n",
    "\n",
    "ds_grid_z = xr.Dataset({\"lat\": ([\"ny\",\"nx\"], lat_z),\n",
    "                        \"lon\": ([\"ny\",\"nx\"], lon_z)})\n",
    "\n",
    "regridder_grad_v2z = xe.Regridder(ds_grad_v, ds_grid_z, \"bilinear\", extrap_method=\"inverse_dist\")\n",
    "regridder_grad_u2z = xe.Regridder(ds_grad_u, ds_grid_z, \"bilinear\", extrap_method=\"inverse_dist\")\n",
    "\n",
    "ds_gradW1_z = regridder_grad_v2z(ds_grad_v)\n",
    "ds_gradW2_z = regridder_grad_u2z(ds_grad_u)\n",
    "\n",
    "W1 = np.array(ds_gradW1_z[\"gradW1\"])\n",
    "W2 = np.array(ds_gradW2_z[\"gradW2\"])"
   ]
  },
  {
   "cell_type": "code",
   "execution_count": 19,
   "id": "d24254a6-f972-4538-813f-4f7fc875dc97",
   "metadata": {},
   "outputs": [],
   "source": [
    "W = g * rho0 * np.nanmean(W1 + W2, axis=0)"
   ]
  },
  {
   "cell_type": "code",
   "execution_count": 20,
   "id": "7dd37db4-4ec0-4217-99f0-f74094d14c09",
   "metadata": {},
   "outputs": [],
   "source": [
    "D = W - P"
   ]
  },
  {
   "cell_type": "code",
   "execution_count": 21,
   "id": "da6a1693-8788-4f61-a69b-9f004566b64b",
   "metadata": {},
   "outputs": [
    {
     "data": {
      "text/plain": [
       "(1081, 2160)"
      ]
     },
     "execution_count": 21,
     "metadata": {},
     "output_type": "execute_result"
    }
   ],
   "source": [
    "D.shape"
   ]
  },
  {
   "cell_type": "code",
   "execution_count": 22,
   "id": "a49fd01d-5d62-40e1-b7cd-90e74d8db2e0",
   "metadata": {},
   "outputs": [],
   "source": [
    "ds_dissip = xr.Dataset(data_vars={\"TPXO_dissip_real\": (('ny','nx'), D.real),\n",
    "                                  \"TPXO_dissip_mag\": (('ny','nx'), np.abs(D)),\n",
    "                                 },\n",
    "                       coords={\"lon\": (('ny', 'nx'), lon_z), \n",
    "                               \"lat\": (('ny', 'nx'), lat_z)})\n",
    "ds_dissip.to_netcdf('/g/data/nm03/lxy581/tpxo9v5a/TPXO_M2_dissip.nc')"
   ]
  },
  {
   "cell_type": "code",
   "execution_count": 23,
   "id": "ffb48d58-d59b-40ac-8877-a2f4dd5e2507",
   "metadata": {},
   "outputs": [],
   "source": [
    "# dissip = xr.open_dataset('/g/data/nm03/lxy581/tpxo9v5a/TPXO_M2_dissip.nc')"
   ]
  },
  {
   "cell_type": "code",
   "execution_count": 24,
   "id": "997e538a-77c6-4ee1-806a-4c3c7d6dff28",
   "metadata": {},
   "outputs": [],
   "source": [
    "# np.nanmean(np.array(dissip[\"TPXO_dissip_mag\"]))"
   ]
  },
  {
   "cell_type": "code",
   "execution_count": 25,
   "id": "f867d7a6-987a-4061-ae8e-cac9860d6027",
   "metadata": {},
   "outputs": [],
   "source": [
    "# dissip[\"TPXO_dissip_mag\"].plot(x='lon',y='lat')"
   ]
  },
  {
   "cell_type": "code",
   "execution_count": 26,
   "id": "64f84b5c-5ea7-4dee-9aac-8c9ac3f76178",
   "metadata": {},
   "outputs": [],
   "source": [
    "# ds_dissip = xr.Dataset(data_vars={\"TPXO_dissip\": (('ny','nx'), np.array(dissip[\"TPXO_dissip_mag\"])),\n",
    "#                                  },\n",
    "#                        coords={\"lon\": (('ny', 'nx'), lon_z), \n",
    "#                                \"lat\": (('ny', 'nx'), lat_z)})"
   ]
  },
  {
   "cell_type": "markdown",
   "id": "fa8e84df-43da-4d5f-95c4-32113ffa56e0",
   "metadata": {},
   "source": [
    "### Convert D to MOM6 grid"
   ]
  },
  {
   "cell_type": "code",
   "execution_count": 27,
   "id": "be93f705-a8ea-41a8-a421-a0fefde40c96",
   "metadata": {},
   "outputs": [],
   "source": [
    "file_stat = '/g/data/nm03/lxy581/archive/tides_025_SAL_JSL_masked/output003/ocean_static.nc'\n",
    "stat  = xr.open_dataset(file_stat)\n",
    "yh, xh = stat.yh, stat.xh\n",
    "depth  = stat['deptho']\n",
    "geolat = stat['geolat']\n",
    "geolon = stat['geolon']\n",
    "geolon_u = stat['geolon_u']\n",
    "geolat_u = stat['geolat_u']\n",
    "geolon_v = stat['geolon_v']\n",
    "geolat_v = stat['geolat_v']\n",
    "area   = stat['areacello']\n",
    "fac_dep = xr.where(depth > 1000, 1, np.nan) \n",
    "fac_lat = xr.where((geolat < 75) & (geolat > -75), 1, np.nan)\n",
    "fac = np.array(fac_dep) * np.array(fac_lat)"
   ]
  },
  {
   "cell_type": "code",
   "execution_count": 28,
   "id": "7285be83-34d1-4157-8a58-fff035a10f6d",
   "metadata": {},
   "outputs": [],
   "source": [
    "topog = xr.open_dataset('/home/581/lxy581/tidal_param/MOM6-examples/ocean_only/tides_025/INPUT/ocean_topog.nc')\n",
    "depth = topog.depth\n",
    "depth_z = np.array(depth)\n",
    "depth_z[depth_z==0]=np.nan\n",
    "depth_da = xr.Dataset(data_vars={'depth_xr': (('yh','xh'), depth_z),\n",
    "                                }, \n",
    "                      coords={'lon': (('yh', 'xh'), np.array(geolon)),\n",
    "                              'lat': (('yh', 'xh'), np.array(geolat))})\n",
    "land = xr.where(np.isnan(depth_da.depth_xr[:,:].rename('land')), 1, np.nan)"
   ]
  },
  {
   "cell_type": "code",
   "execution_count": null,
   "id": "479bb325-5c6b-4053-bbcd-43ef5732e01e",
   "metadata": {},
   "outputs": [
    {
     "name": "stdout",
     "output_type": "stream",
     "text": [
      "interpolating...\n"
     ]
    }
   ],
   "source": [
    "ds_mom6_grid = xr.Dataset({\"lat\": ([\"yh\",\"xh\"], np.array(geolat)),\n",
    "                           \"lon\": ([\"yh\",\"xh\"], np.array(geolon))})\n",
    "print('interpolating...')\n",
    "regridder_dissip = xe.Regridder(ds_dissip, ds_mom6_grid, \"bilinear\", extrap_method=\"inverse_dist\")\n",
    "print('regriddering...')\n",
    "ds_D_mom6 = regridder_dissip(ds_dissip)\n",
    "print('getting interpolated dissipation...')\n",
    "TPXO_dissip = np.array(ds_D_mom6[\"TPXO_dissip_mag\"])\n",
    "print('calculating global sum...')\n",
    "global_dissip  = np.nansum(TPXO_dissip * np.array(area)) / 1e+12"
   ]
  },
  {
   "cell_type": "code",
   "execution_count": null,
   "id": "ee7daea5-42d1-42fa-92d3-d414f186c9dd",
   "metadata": {},
   "outputs": [],
   "source": [
    "deep_dissip = np.nansum(TPXO_dissip * np.array(area)*fac_dep) / 1e+12\n",
    "print('Global M2 tidal energy dissipation: %.1fTW'%global_dissip)\n",
    "print('Open ocean dissipation fraction: %d%%'%(deep_dissip/global_dissip*100))"
   ]
  },
  {
   "cell_type": "code",
   "execution_count": null,
   "id": "85948b87-e0af-4887-b3ae-9c6fa93c596d",
   "metadata": {},
   "outputs": [],
   "source": [
    "varlist = ['TPXO_dissip']\n",
    "title   = ['TPXO M2 tidal energy dissipation \\n Global sum: %.2f TW'%(global_dissip)]\n",
    "tick_locs = np.array([1e-4,1e-3,1e-2,1e-1,1e-0])\n",
    "tick_labels = np.array([\"10$^{-4}$\",\"10$^{-3}$\",\"10$^{-2}$\",\"10$^{-1}$\",\"10$^{0}$\"])\n",
    "# tick_locs = np.array([-0.01,-0.005,0,0.005,0.01])\n",
    "# tick_labels = np.array([\"-0.01\",\"-.005\",\"0\",\"0.005\",\"0.01\"])\n",
    "\n",
    "fig = plt.figure(figsize=(22, 10))\n",
    "axs = []\n",
    "\n",
    "gridsubs = gridspec.GridSpec(1,1)\n",
    "for gs in gridsubs:\n",
    "    axs.append(plt.subplot(gs))\n",
    "\n",
    "for I, (ax, var) in enumerate(zip(axs, varlist)):\n",
    "\n",
    "    ax.spines['top'].set_visible(False)\n",
    "    ax.spines['right'].set_visible(False)\n",
    "    ax.spines['bottom'].set_visible(False)\n",
    "    ax.spines['left'].set_visible(False)\n",
    "    ax.get_xaxis().set_ticks([])\n",
    "    ax.get_yaxis().set_ticks([])\n",
    "    \n",
    "    ax = plt.axes(projection=ccrs.Robinson(central_longitude=-100))\n",
    "    # Add model land mask\n",
    "    land.plot.contourf(ax=ax, x='lon', y='lat', colors='darkgrey', zorder=2, transform=ccrs.PlateCarree(), add_colorbar=False)\n",
    "    # Add model coastline\n",
    "    land.fillna(0).plot.contour(ax=ax, x='lon', y='lat', colors='k', levels=[0, 1], transform=ccrs.PlateCarree(), add_colorbar=False, linewidths=0.5)\n",
    "\n",
    "    # p1 = ax.pcolormesh(geolon, geolat, globals()[var], transform=ccrs.PlateCarree(), cmap=cm.cm.balance, vmin=-0.01, vmax=0.01)\n",
    "    p1 = ax.pcolormesh(geolon, geolat, globals()[var], transform=ccrs.PlateCarree(), cmap=matplotlib., norm=LogNorm(vmin=1e-4, vmax=1e+0))\n",
    "    plt.title(title[I],fontsize=24)\n",
    "  \n",
    "    if I==0:\n",
    "        ax_cb = plt.axes([0.86, 0.13, 0.01, 0.68])\n",
    "    \n",
    "    cb1 = plt.colorbar(p1, cax=ax_cb, orientation='vertical', extend='both')\n",
    "    cb1.ax.set_ylabel('Energy dissipation (W m$^{-2}$)',fontsize=20,rotation=270,labelpad=25);\n",
    "    cb1.ax.tick_params(labelsize=16)\n",
    "    cb1.locator   = matplotlib.ticker.FixedLocator(tick_locs)\n",
    "    cb1.formatter = matplotlib.ticker.FixedFormatter(tick_labels)\n",
    "\n",
    "    if I==0:\n",
    "        ax.set_position([0.1,0.1,0.75,0.75])\n",
    "        \n",
    "plt.savefig('/g/data/nm03/lxy581/exps_figs/TPXO_M2_dissip_log.png', dpi=300, bbox_inches='tight')"
   ]
  }
 ],
 "metadata": {
  "kernelspec": {
   "display_name": "Python [conda env:analysis3-unstable]",
   "language": "python",
   "name": "conda-env-analysis3-unstable-py"
  },
  "language_info": {
   "codemirror_mode": {
    "name": "ipython",
    "version": 3
   },
   "file_extension": ".py",
   "mimetype": "text/x-python",
   "name": "python",
   "nbconvert_exporter": "python",
   "pygments_lexer": "ipython3",
   "version": "3.10.13"
  }
 },
 "nbformat": 4,
 "nbformat_minor": 5
}
