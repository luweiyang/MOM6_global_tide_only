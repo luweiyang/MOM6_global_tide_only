{
 "cells": [
  {
   "cell_type": "markdown",
   "id": "40c78213-4f77-4f28-9e93-4208ee8f2b98",
   "metadata": {},
   "source": [
    "# Calculate the steepness of 15-arcsec SYNBATH topography"
   ]
  },
  {
   "cell_type": "code",
   "execution_count": 1,
   "id": "a4ba8935-3303-4c40-ac7c-473b672621da",
   "metadata": {},
   "outputs": [],
   "source": [
    "%matplotlib inline\n",
    "import numpy as np\n",
    "import xesmf as xe\n",
    "import xarray as xr\n",
    "import netCDF4 as nc\n",
    "import matplotlib.pyplot as plt\n",
    "import matplotlib.gridspec as gridspec\n",
    "from scipy.interpolate import make_interp_spline\n",
    "from scipy.interpolate import PchipInterpolator\n",
    "import warnings\n",
    "warnings.filterwarnings('ignore')"
   ]
  },
  {
   "cell_type": "code",
   "execution_count": 2,
   "id": "198d356d-012f-44c9-b52b-e92b3e2784bd",
   "metadata": {},
   "outputs": [],
   "source": [
    "def get_delta(lat):\n",
    "\n",
    "    # compute the distance in km lat\n",
    "    delta_lon = 2 * np.pi * (6371 * np.cos(lat*np.pi/180)) / 360 # dx in km\n",
    "\n",
    "    return delta_lon"
   ]
  },
  {
   "cell_type": "code",
   "execution_count": 3,
   "id": "74dcce57-b284-4534-951f-7ddea393251b",
   "metadata": {},
   "outputs": [],
   "source": [
    "file = '/g/data/nm03/lxy581/synbath/SYNBATH.nc'\n",
    "data = xr.open_dataset(file)\n",
    "depth = data.z\n",
    "lon = data.lon\n",
    "lat = data.lat\n",
    "ny = data.lat.size\n",
    "nx = data.lon.size"
   ]
  },
  {
   "cell_type": "code",
   "execution_count": 4,
   "id": "14e8bd62-c403-4de6-bdfe-2091833f5ff7",
   "metadata": {},
   "outputs": [],
   "source": [
    "slope_x, slope_y, slope_h = np.full((ny-2,nx-2),np.nan), np.full((ny-2,nx-2),np.nan), np.full((ny-2,nx-2),np.nan)"
   ]
  },
  {
   "cell_type": "code",
   "execution_count": 5,
   "id": "5ed9e257-218f-463f-89ce-ac597c0fbdd3",
   "metadata": {},
   "outputs": [
    {
     "data": {
      "text/plain": [
       "(86400, 43200)"
      ]
     },
     "execution_count": 5,
     "metadata": {},
     "output_type": "execute_result"
    }
   ],
   "source": [
    "nx, ny"
   ]
  },
  {
   "cell_type": "code",
   "execution_count": 6,
   "id": "0aac0558-44c8-4adb-b1ec-3bc2b34431d6",
   "metadata": {},
   "outputs": [],
   "source": [
    "delta_lat = 1 * np.pi * 6371 / 180 # dy in km"
   ]
  },
  {
   "cell_type": "code",
   "execution_count": null,
   "id": "8269593f-3962-4ed9-bbb6-a0dbfe503d03",
   "metadata": {},
   "outputs": [],
   "source": [
    "for j in range(ny-2):\n",
    "    for i in range(nx-2):\n",
    "        slope_x[j,i] = (depth[j+1,i+2] - depth[j+1,i]) / (2*get_delta(lat[j+1]))\n",
    "        slope_y[j,i] = (depth[j+2,i+1] - depth[j,i+1]) / (2*delta_lat)"
   ]
  },
  {
   "cell_type": "code",
   "execution_count": null,
   "id": "fffc61cc-89e8-49ce-a6a5-00d37e15f600",
   "metadata": {},
   "outputs": [],
   "source": [
    "slope_h = np.sqrt(slope_x**2 + slope_y**2)"
   ]
  }
 ],
 "metadata": {
  "kernelspec": {
   "display_name": "Python [conda env:analysis3-24.04] *",
   "language": "python",
   "name": "conda-env-analysis3-24.04-py"
  },
  "language_info": {
   "codemirror_mode": {
    "name": "ipython",
    "version": 3
   },
   "file_extension": ".py",
   "mimetype": "text/x-python",
   "name": "python",
   "nbconvert_exporter": "python",
   "pygments_lexer": "ipython3",
   "version": "3.10.14"
  }
 },
 "nbformat": 4,
 "nbformat_minor": 5
}
