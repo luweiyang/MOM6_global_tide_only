{
 "cells": [
  {
   "cell_type": "markdown",
   "id": "87ee643d-fc2a-4c4d-b44c-05c9fcb486dc",
   "metadata": {},
   "source": [
    "# Validate the tide-only 1-layer global MOM6 experiment\n",
    "\n",
    "### Compare the surface speed simulated by the tide-only 1-layer global MOM6 configuration with that from TPXO data.\n",
    "\n",
    "Global 1-layer tide-only model output: /scratch/nm03/lxy581/mom6/archive/tides_025/\n",
    "\n",
    "1st year (M2 only): output000 - output011/ocean_interior.nc\n",
    "\n",
    "2nd year (M2 + K1): output012 - output023/ocean_interior.nc\n",
    "\n",
    "TPXO speed: /g/data/nm03/cjs157/v45/tidal_mom/input/m2.nc\n",
    "\n",
    "TPXO amplitude and phase: /g/data/nm03/TPXO"
   ]
  },
  {
   "cell_type": "code",
   "execution_count": null,
   "id": "ff70baf7-70a3-460b-b498-88fe6a418844",
   "metadata": {},
   "outputs": [],
   "source": [
    "%matplotlib inline\n",
    "\n",
    "import numpy as np\n",
    "import xarray as xr\n",
    "import netCDF4 as nc\n",
    "import cmocean as cm\n",
    "import cartopy.crs as ccrs\n",
    "import matplotlib.pyplot as plt\n",
    "from matplotlib.colors import LogNorm\n",
    "\n",
    "import warnings\n",
    "warnings.filterwarnings('ignore')"
   ]
  },
  {
   "cell_type": "markdown",
   "id": "be22f48e-bbd0-4173-9f4a-ea48160676d0",
   "metadata": {},
   "source": [
    "### Specify a time"
   ]
  },
  {
   "cell_type": "code",
   "execution_count": null,
   "id": "13d4e39e-0780-44d6-a8a1-5c7939b70880",
   "metadata": {},
   "outputs": [],
   "source": [
    "itime = -6"
   ]
  },
  {
   "cell_type": "markdown",
   "id": "a61bea66-1c30-4506-b1f2-e992ff1ad0a6",
   "metadata": {},
   "source": [
    "### MOM6: Load the global speed"
   ]
  },
  {
   "cell_type": "code",
   "execution_count": null,
   "id": "5d179cac-f554-4b0e-acd9-b84b51e0613f",
   "metadata": {},
   "outputs": [],
   "source": [
    "data = xr.open_dataset('/scratch/nm03/lxy581/mom6/archive/tides_025/output011/ocean_interior.nc')\n",
    "lon = data.xh\n",
    "lat = data.yh\n",
    "spd = data['speed'].isel({'time':itime})\n",
    "\n",
    "topog = xr.open_dataset('/home/581/lxy581/tidal_param/MOM6-examples/ocean_only/tides_025/INPUT/ocean_topog.nc')\n",
    "depth = topog.depth\n",
    "\n",
    "land = xr.where(np.isnan(depth.rename('land')), 1, np.nan)"
   ]
  },
  {
   "cell_type": "markdown",
   "id": "218e6c44-3b46-4fd3-9163-460df45a9cd7",
   "metadata": {},
   "source": [
    "### MOM6: Plot the ocean depth"
   ]
  },
  {
   "cell_type": "code",
   "execution_count": null,
   "id": "990ff8e7-a6fb-4a79-a548-dcb026f80591",
   "metadata": {},
   "outputs": [],
   "source": [
    "# fig = plt.figure(figsize=(10, 8))\n",
    "# ax = plt.axes(projection=ccrs.Robinson(central_longitude=-100))\n",
    "\n",
    "# # Add model land mask\n",
    "# land.plot.contourf(ax=ax, colors='darkgrey', zorder=2, transform=ccrs.PlateCarree(), add_colorbar=False)\n",
    "# # Add model coastline\n",
    "# land.fillna(0).plot.contour(ax=ax, colors='k', levels=[0, 1], transform=ccrs.PlateCarree(), add_colorbar=False, linewidths=0.5)\n",
    "\n",
    "# my_cmap = cm.cm.deep\n",
    "# #my_cmap.set_bad('gray')\n",
    "\n",
    "# p1 = ax.pcolormesh(lon, lat, depth, transform=ccrs.PlateCarree(), cmap=my_cmap, vmin=0, vmax=6000)\n",
    "# plt.title('Ocean Depth')\n",
    "\n",
    "# ax_cb = plt.axes([0.92, 0.25, 0.015, 0.5])\n",
    "# cb = plt.colorbar(p1, cax=ax_cb, orientation='vertical', extend='max')\n",
    "# cb.ax.set_ylabel('Depth (m)');"
   ]
  },
  {
   "cell_type": "markdown",
   "id": "16cf63f5-93e8-43b2-8ca9-b36d461b61a6",
   "metadata": {},
   "source": [
    "### MOM6: Plot the speed"
   ]
  },
  {
   "cell_type": "code",
   "execution_count": null,
   "id": "90c83860-e355-48cf-a0e0-f1f0aefb6d4c",
   "metadata": {},
   "outputs": [],
   "source": [
    "fig = plt.figure(figsize=(10, 8))\n",
    "ax1 = plt.axes(projection=ccrs.Robinson(central_longitude=-100))\n",
    "\n",
    "# Add model land mask\n",
    "land.plot.contourf(ax=ax1, colors='darkgrey', zorder=2, transform=ccrs.PlateCarree(), add_colorbar=False)\n",
    "# Add model coastline\n",
    "land.fillna(0).plot.contour(ax=ax1, colors='k', levels=[0, 1], transform=ccrs.PlateCarree(), add_colorbar=False, linewidths=0.5)\n",
    "\n",
    "my_cmap = cm.cm.balance\n",
    "#my_cmap.set_bad('gray')\n",
    "\n",
    "p1 = ax1.pcolormesh(lon, lat, spd, transform=ccrs.PlateCarree(), cmap=my_cmap, norm=LogNorm(vmin=1e-4, vmax=1))\n",
    "plt.title('Surface speed (MOM6)')\n",
    "\n",
    "ax1_cb = plt.axes([0.92, 0.25, 0.015, 0.5])\n",
    "cb1 = plt.colorbar(p1, cax=ax1_cb, orientation='vertical', extend='both')\n",
    "cb1.ax.set_ylabel('Speed (m s$^{-1}$)');"
   ]
  },
  {
   "cell_type": "markdown",
   "id": "d975a89c-0777-4d0e-a0f5-9f042946f60c",
   "metadata": {},
   "source": [
    "### TPXO: Load the global speed"
   ]
  },
  {
   "cell_type": "code",
   "execution_count": null,
   "id": "78829b49-ac7b-4b65-8c83-4239345fc1a3",
   "metadata": {},
   "outputs": [],
   "source": [
    "data = xr.open_dataset('/g/data/nm03/cjs157/v45/tidal_mom/input/m2.nc')\n",
    "lon = data.lon\n",
    "lat = data.lat\n",
    "ut  = data.ut\n",
    "vt  = data.vt\n",
    "spd = np.sqrt(ut**2+vt**2)"
   ]
  },
  {
   "cell_type": "markdown",
   "id": "0e77712a-411e-4032-ad16-d85539171ddf",
   "metadata": {},
   "source": [
    "### TPXO: Plot the speed "
   ]
  },
  {
   "cell_type": "code",
   "execution_count": null,
   "id": "9043f96d-fc36-4650-90fb-eeb63ae61cfd",
   "metadata": {},
   "outputs": [],
   "source": [
    "fig = plt.figure(figsize=(10, 8))\n",
    "ax2 = plt.axes(projection=ccrs.Robinson(central_longitude=-100))\n",
    "\n",
    "# Add model land mask\n",
    "land.plot.contourf(ax=ax2, colors='darkgrey', zorder=2, transform=ccrs.PlateCarree(), add_colorbar=False)\n",
    "# Add model coastline\n",
    "land.fillna(0).plot.contour(ax=ax2, colors='k', levels=[0, 1], transform=ccrs.PlateCarree(), add_colorbar=False, linewidths=0.5)\n",
    "\n",
    "my_cmap = cm.cm.balance\n",
    "#my_cmap.set_bad('gray')\n",
    "\n",
    "p1 = ax2.pcolormesh(lon, lat, spd, transform=ccrs.PlateCarree(), cmap=my_cmap, norm=LogNorm(vmin=1e-4, vmax=1))\n",
    "plt.title('Surface speed (TPXO)')\n",
    "\n",
    "ax2_cb = plt.axes([0.92, 0.25, 0.015, 0.5])\n",
    "cb1 = plt.colorbar(p1, cax=ax2_cb, orientation='vertical', extend='both')\n",
    "cb1.ax.set_ylabel('Speed (m s$^{-1}$)');"
   ]
  }
 ],
 "metadata": {
  "kernelspec": {
   "display_name": "Python [conda env:analysis3-unstable]",
   "language": "python",
   "name": "conda-env-analysis3-unstable-py"
  },
  "language_info": {
   "codemirror_mode": {
    "name": "ipython",
    "version": 3
   },
   "file_extension": ".py",
   "mimetype": "text/x-python",
   "name": "python",
   "nbconvert_exporter": "python",
   "pygments_lexer": "ipython3",
   "version": "3.10.12"
  }
 },
 "nbformat": 4,
 "nbformat_minor": 5
}
