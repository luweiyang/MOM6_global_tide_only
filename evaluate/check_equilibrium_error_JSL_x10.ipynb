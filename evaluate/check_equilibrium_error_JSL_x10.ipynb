{
 "cells": [
  {
   "cell_type": "markdown",
   "id": "3437a310-e2af-4850-b768-bf7d00292763",
   "metadata": {},
   "source": [
    "# Check if the tidal elevation error has reached the equilibrium"
   ]
  },
  {
   "cell_type": "code",
   "execution_count": 1,
   "id": "81b7649d-348e-41c4-a61e-b85fb0a4a256",
   "metadata": {},
   "outputs": [],
   "source": [
    "%matplotlib inline\n",
    "import numpy as np\n",
    "import xesmf as xe\n",
    "import xarray as xr\n",
    "import netCDF4 as nc\n",
    "import matplotlib.pyplot as plt\n",
    "import warnings\n",
    "warnings.filterwarnings('ignore')"
   ]
  },
  {
   "cell_type": "code",
   "execution_count": 2,
   "id": "5245264c-c549-457b-bd8f-b67b8460d6b7",
   "metadata": {},
   "outputs": [],
   "source": [
    "file_JSL    = '/g/data/nm03/lxy581/archive/tides_025_SAL_JSL/output011/ocean_interior.nc'\n",
    "file_stats  = '/g/data/nm03/lxy581/archive/tides_025_SAL_JSL/output011/ocean_static.nc'"
   ]
  },
  {
   "cell_type": "code",
   "execution_count": 3,
   "id": "d7814e2c-ade9-4cdb-877a-de66cb4282df",
   "metadata": {},
   "outputs": [],
   "source": [
    "JSL    = xr.open_dataset(file_JSL)\n",
    "stat   = xr.open_dataset(file_stats)"
   ]
  },
  {
   "cell_type": "code",
   "execution_count": 4,
   "id": "d5161cde-9953-4f55-9f1c-5a42d2c6a8b2",
   "metadata": {},
   "outputs": [],
   "source": [
    "depth  = stat['deptho']\n",
    "geolat = stat['geolat']\n",
    "geolon = stat['geolon']\n",
    "yh, xh = stat.yh, stat.xh\n",
    "fac_dep = xr.where(depth > 1000, 1, np.nan) \n",
    "fac_lat = xr.where((geolat < 75) & (geolat > -75), 1, np.nan)"
   ]
  },
  {
   "cell_type": "code",
   "execution_count": 5,
   "id": "d34dcbf0-db6d-4164-8c7d-f2ef28786758",
   "metadata": {},
   "outputs": [
    {
     "name": "stdout",
     "output_type": "stream",
     "text": [
      "(1080, 1440)\n"
     ]
    }
   ],
   "source": [
    "print(fac_dep.shape)"
   ]
  },
  {
   "cell_type": "code",
   "execution_count": 6,
   "id": "ebc2acaa-3265-407c-a836-3b3dd1e68133",
   "metadata": {},
   "outputs": [],
   "source": [
    "ny, nx = JSL.yh.size, JSL.xh.size\n",
    "elev_err_JSL_x6 = np.full((24,),np.nan)\n",
    "elev_JSL_3D  = np.full((149,ny,nx),np.nan)"
   ]
  },
  {
   "cell_type": "code",
   "execution_count": 7,
   "id": "6195cc28-a24b-4379-a3c8-a3b648403142",
   "metadata": {},
   "outputs": [],
   "source": [
    "tpxo = xr.open_dataset('/g/data/nm03/TPXO/h_tpxo9.v1.nc')\n",
    "tpgd = xr.open_dataset('/g/data/nm03/TPXO/grid_tpxo9.nc')\n",
    "pha_tpxo = tpxo.hp.isel({'nc':0}).transpose() /180 *np.pi\n",
    "amp_tpxo = tpxo.ha.isel({'nc':0}).transpose()\n",
    "lon_tpxo = tpgd.lon_z.transpose()\n",
    "lat_tpxo = tpgd.lat_z.transpose()\n",
    "hz_tpxo  = tpgd.hz.transpose()\n",
    "ny, nx   = tpgd.ny, tpgd.nx"
   ]
  },
  {
   "cell_type": "code",
   "execution_count": 8,
   "id": "eb90a811-b0dc-422d-bf3a-1d2a088c0596",
   "metadata": {},
   "outputs": [],
   "source": [
    "ds_tpxo_data = xr.Dataset(data_vars={'pha_tpxo': (('ny','nx'), np.array(pha_tpxo)),\n",
    "                                     'amp_tpxo': (('ny','nx'), np.array(amp_tpxo)),\n",
    "                                     'hz_tpxo': (('ny','nx'), np.array(hz_tpxo))},\n",
    "                          coords={'lon': (('ny', 'nx'), np.array(lon_tpxo)), \n",
    "                                  'lat': (('ny', 'nx'), np.array(lat_tpxo))})\n",
    "ds_mom6_grid = xr.Dataset({\"lat\": ([\"yh\",\"xh\"], np.array(geolat)),\n",
    "                           \"lon\": ([\"yh\",\"xh\"], np.array(geolon))})\n",
    "regridder = xe.Regridder(ds_tpxo_data, ds_mom6_grid, \"bilinear\", extrap_method=\"inverse_dist\")\n",
    "ds_tpxo_mom6_grid = regridder(ds_tpxo_data)"
   ]
  },
  {
   "cell_type": "code",
   "execution_count": 9,
   "id": "6b65fcd3-8853-4cdf-b478-8a754c9ad648",
   "metadata": {},
   "outputs": [
    {
     "name": "stdout",
     "output_type": "stream",
     "text": [
      "[  0  31  59  90 120 151 181 212 243 273 304 334 365]\n"
     ]
    }
   ],
   "source": [
    "days = np.array([0,31,28,31,30,31,30,31,31,30,31,30,31])\n",
    "days_accum = np.cumsum(days)\n",
    "print(days_accum)"
   ]
  },
  {
   "cell_type": "code",
   "execution_count": 11,
   "id": "81b5375c-0122-4fb7-bb7d-3c5bb853563d",
   "metadata": {},
   "outputs": [],
   "source": [
    "def get_elev_monthly(exp_name):\n",
    "    elev_err_JSL = np.full((12,),np.nan)\n",
    "    for i in range(12):\n",
    "        print('Month %02d'%i)\n",
    "        file = '/scratch/nm03/lxy581/mom6/archive/%s/output0%02d/ocean_interior.nc'%(exp_name,i)\n",
    "        print(file)\n",
    "        data = xr.open_dataset(file)\n",
    "        elev_JSL_3D = np.array(data.e.isel({'time':np.arange(149),'zi':0}))\n",
    "        t_12cyc = np.arange(149)\n",
    "        nt_tpxo = t_12cyc.size\n",
    "        omega_m2 = np.full((nt_tpxo,yh.size,xh.size),(2*np.pi/(12+5/12)))\n",
    "        elev_tpxo = np.array(ds_tpxo_mom6_grid['amp_tpxo'])[None,:,:] * np.cos(omega_m2 * (t_12cyc[:,None,None]+days_accum[i]*24) - np.array(ds_tpxo_mom6_grid['pha_tpxo'])[None,:,:])\n",
    "        elev_err_JSL[i] = np.nanmean(np.sqrt(np.nanmean((elev_JSL_3D * np.array(fac_lat)[None,:,:] * np.array(fac_dep)[None,:,:] - elev_tpxo * np.array(fac_lat)[None,:,:] * np.array(fac_dep)[None,:,:])**2,axis=0))) *100\n",
    "        print(elev_err_JSL[i])\n",
    "        print('End the loop \\n')\n",
    "    return elev_err_JSL"
   ]
  },
  {
   "cell_type": "code",
   "execution_count": 12,
   "id": "b5d4aaed-3c44-457c-b755-5107ba5f0ecc",
   "metadata": {},
   "outputs": [
    {
     "name": "stdout",
     "output_type": "stream",
     "text": [
      "Month 00\n",
      "/scratch/nm03/lxy581/mom6/archive/tides_025_SAL_JSL_x10/output000/ocean_interior.nc\n",
      "15.23471596781433\n",
      "End the loop \n",
      "\n",
      "Month 01\n",
      "/scratch/nm03/lxy581/mom6/archive/tides_025_SAL_JSL_x10/output001/ocean_interior.nc\n",
      "10.993448844325275\n",
      "End the loop \n",
      "\n",
      "Month 02\n",
      "/scratch/nm03/lxy581/mom6/archive/tides_025_SAL_JSL_x10/output002/ocean_interior.nc\n",
      "9.916031486423805\n",
      "End the loop \n",
      "\n",
      "Month 03\n",
      "/scratch/nm03/lxy581/mom6/archive/tides_025_SAL_JSL_x10/output003/ocean_interior.nc\n",
      "8.963128872069626\n",
      "End the loop \n",
      "\n",
      "Month 04\n",
      "/scratch/nm03/lxy581/mom6/archive/tides_025_SAL_JSL_x10/output004/ocean_interior.nc\n",
      "8.39677142823199\n",
      "End the loop \n",
      "\n",
      "Month 05\n",
      "/scratch/nm03/lxy581/mom6/archive/tides_025_SAL_JSL_x10/output005/ocean_interior.nc\n",
      "8.315097973216808\n",
      "End the loop \n",
      "\n",
      "Month 06\n",
      "/scratch/nm03/lxy581/mom6/archive/tides_025_SAL_JSL_x10/output006/ocean_interior.nc\n",
      "8.8075565872942\n",
      "End the loop \n",
      "\n",
      "Month 07\n",
      "/scratch/nm03/lxy581/mom6/archive/tides_025_SAL_JSL_x10/output007/ocean_interior.nc\n",
      "9.875444627649577\n",
      "End the loop \n",
      "\n",
      "Month 08\n",
      "/scratch/nm03/lxy581/mom6/archive/tides_025_SAL_JSL_x10/output008/ocean_interior.nc\n",
      "11.291730965232697\n",
      "End the loop \n",
      "\n",
      "Month 09\n",
      "/scratch/nm03/lxy581/mom6/archive/tides_025_SAL_JSL_x10/output009/ocean_interior.nc\n",
      "12.834069520196657\n",
      "End the loop \n",
      "\n",
      "Month 10\n",
      "/scratch/nm03/lxy581/mom6/archive/tides_025_SAL_JSL_x10/output010/ocean_interior.nc\n",
      "14.52240757214974\n",
      "End the loop \n",
      "\n",
      "Month 11\n",
      "/scratch/nm03/lxy581/mom6/archive/tides_025_SAL_JSL_x10/output011/ocean_interior.nc\n",
      "16.20596633888974\n",
      "End the loop \n",
      "\n"
     ]
    }
   ],
   "source": [
    "elev_err_JSL_x6 = get_elev_monthly('tides_025_SAL_JSL_x10')"
   ]
  },
  {
   "cell_type": "code",
   "execution_count": 13,
   "id": "98935a52-39c6-4467-8f10-0303d35929b3",
   "metadata": {},
   "outputs": [
    {
     "name": "stdout",
     "output_type": "stream",
     "text": [
      "[15.23471597 10.99344884  9.91603149  8.96312887  8.39677143  8.31509797\n",
      "  8.80755659  9.87544463 11.29173097 12.83406952 14.52240757 16.20596634]\n"
     ]
    }
   ],
   "source": [
    "print(elev_err_JSL_x6)"
   ]
  },
  {
   "cell_type": "code",
   "execution_count": 14,
   "id": "7db81e70-ee7a-424e-a419-92c4c4a8d581",
   "metadata": {},
   "outputs": [
    {
     "data": {
      "image/png": "[encoded data removed]",
      "text/plain": [
       "<Figure size 1200x400 with 1 Axes>"
      ]
     },
     "metadata": {},
     "output_type": "display_data"
    }
   ],
   "source": [
    "fig = plt.figure(figsize=(12, 4))\n",
    "# plt.plot(np.arange(12),elev_err_JSL,'k-',label='not tuned')\n",
    "plt.plot(np.arange(12),elev_err_JSL_x6,'b-',label='JSL, x10')\n",
    "# plt.scatter(np.arange(12),elev_err_JSL,marker='o',color='k',s=16)\n",
    "plt.scatter(np.arange(12),elev_err_JSL_x6,marker='o',color='b',s=16)\n",
    "plt.legend(bbox_to_anchor=(0.94,0.92),fontsize=14,frameon=False)\n",
    "plt.ylim(5,20)\n",
    "plt.xlim(-1,13)\n",
    "plt.xlabel('Month',fontsize=14)\n",
    "plt.xticks(np.arange(2,12,3),labels=['3','6','9','12'])\n",
    "plt.yticks(np.arange(5,25,5),labels=['5','10','15','20'])\n",
    "plt.ylabel('RMSE (cm)',fontsize=14)\n",
    "plt.title('JSL, x10',fontsize=14)\n",
    "plt.grid(True)\n",
    "plt.tick_params(labelsize=14)\n",
    "plt.savefig('/g/data/nm03/lxy581/evaluate/tuning/SAL_JSL_x10_TPXO_M2_RMSE_time_series.png', dpi=100, bbox_inches='tight')"
   ]
  }
 ],
 "metadata": {
  "kernelspec": {
   "display_name": "Python [conda env:analysis3-unstable]",
   "language": "python",
   "name": "conda-env-analysis3-unstable-py"
  },
  "language_info": {
   "codemirror_mode": {
    "name": "ipython",
    "version": 3
   },
   "file_extension": ".py",
   "mimetype": "text/x-python",
   "name": "python",
   "nbconvert_exporter": "python",
   "pygments_lexer": "ipython3",
   "version": "3.10.13"
  }
 },
 "nbformat": 4,
 "nbformat_minor": 5
}
