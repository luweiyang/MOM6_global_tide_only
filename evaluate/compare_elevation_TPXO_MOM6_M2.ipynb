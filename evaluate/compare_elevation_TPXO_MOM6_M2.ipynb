{
 "cells": [
  {
   "cell_type": "markdown",
   "id": "87ee643d-fc2a-4c4d-b44c-05c9fcb486dc",
   "metadata": {},
   "source": [
    "# Decompose the elevation errors into phase and amplitude components"
   ]
  },
  {
   "cell_type": "code",
   "execution_count": 20,
   "id": "ff70baf7-70a3-460b-b498-88fe6a418844",
   "metadata": {},
   "outputs": [],
   "source": [
    "%matplotlib inline\n",
    "\n",
    "import datetime, time\n",
    "import numpy as np\n",
    "import xesmf as xe\n",
    "import xarray as xr\n",
    "import netCDF4 as nc\n",
    "import cmocean as cm\n",
    "import matplotlib.ticker\n",
    "import cartopy.crs as ccrs\n",
    "import matplotlib.pyplot as plt\n",
    "from scipy.optimize import curve_fit\n",
    "from matplotlib.colors import LogNorm\n",
    "import matplotlib.gridspec as gridspec\n",
    "\n",
    "import warnings\n",
    "warnings.filterwarnings('ignore')"
   ]
  },
  {
   "cell_type": "code",
   "execution_count": 21,
   "id": "5f76bb89-a7b3-4415-a6f3-1275e898900b",
   "metadata": {},
   "outputs": [],
   "source": [
    "mom6 = xr.open_dataset('/g/data/nm03/lxy581/evaluate/amp_phase/tides_025_JSL_x6_global.nc')\n",
    "mmgd = xr.open_dataset('/g/data/nm03/lxy581/archive/tides_025_SAL_JSL_masked/output003/ocean_static.nc')\n",
    "data = xr.open_dataset('/g/data/nm03/lxy581/archive/tides_025_SAL_JSL_x6/output002/ocean_interior.nc')\n",
    "tpxo = xr.open_dataset('/g/data/nm03/TPXO/h_tpxo9.v1.nc')\n",
    "tpgd = xr.open_dataset('/g/data/nm03/TPXO/grid_tpxo9.nc')"
   ]
  },
  {
   "cell_type": "markdown",
   "id": "a61bea66-1c30-4506-b1f2-e992ff1ad0a6",
   "metadata": {},
   "source": [
    "### Read phase and amplitude "
   ]
  },
  {
   "cell_type": "code",
   "execution_count": 22,
   "id": "8edc7fad-da0e-4eca-b66e-dcc4ebebef9d",
   "metadata": {},
   "outputs": [],
   "source": [
    "pha_mom6 = mom6.phase \n",
    "amp_mom6 = mom6.amp\n",
    "pha_tpxo = (tpxo.hp.isel({'nc':0}).transpose() - 180) / 180*np.pi +13*np.pi/16\n",
    "amp_tpxo = tpxo.ha.isel({'nc':0}).transpose()"
   ]
  },
  {
   "cell_type": "markdown",
   "id": "e4872d72-9559-476f-8a43-a55d1e9021b4",
   "metadata": {},
   "source": [
    "### Read grid"
   ]
  },
  {
   "cell_type": "code",
   "execution_count": 23,
   "id": "f5c4d7e2-9465-415e-9a7a-9c4cab79ba1a",
   "metadata": {},
   "outputs": [],
   "source": [
    "geolon = mmgd.geolon\n",
    "geolat = mmgd.geolat\n",
    "depth  = mmgd.deptho\n",
    "area   = mmgd.areacello\n",
    "yh, xh = mmgd.yh, mmgd.xh\n",
    "lon_tpxo = tpgd.lon_z.transpose()\n",
    "lat_tpxo = tpgd.lat_z.transpose()\n",
    "hz_tpxo  = tpgd.hz.transpose()\n",
    "ny, nx = tpgd.ny, tpgd.nx\n",
    "fac_dep = xr.where(depth > 1000, 1, np.nan) \n",
    "fac_lat = xr.where((geolat < 75) & (geolat > -75), 1, np.nan)\n",
    "fac = np.array(fac_dep) * np.array(fac_lat)"
   ]
  },
  {
   "cell_type": "code",
   "execution_count": 24,
   "id": "fafe0f14-286b-4459-8eee-bb07c4673773",
   "metadata": {},
   "outputs": [],
   "source": [
    "topog = xr.open_dataset('/home/581/lxy581/tidal_param/MOM6-examples/ocean_only/tides_025/INPUT/ocean_topog.nc')\n",
    "depth = topog.depth\n",
    "depth_z = np.array(depth)\n",
    "depth_z[depth_z==0]=np.nan\n",
    "depth_da = xr.Dataset(data_vars={'depth_xr': (('yh','xh'), depth_z),\n",
    "                                }, \n",
    "                      coords={'lon': (('yh', 'xh'), np.array(geolon)),\n",
    "                              'lat': (('yh', 'xh'), np.array(geolat))})\n",
    "land = xr.where(np.isnan(depth_da.depth_xr[:,:].rename('land')), 1, np.nan)"
   ]
  },
  {
   "cell_type": "markdown",
   "id": "6e22fdb1-0a1c-43f5-b854-3b655a8c9d2d",
   "metadata": {},
   "source": [
    "### Need to interpolate to the same grid - MOM6 grid"
   ]
  },
  {
   "cell_type": "code",
   "execution_count": null,
   "id": "87896e64-0e91-4d92-9540-f892403de05c",
   "metadata": {},
   "outputs": [],
   "source": [
    "ds_tpxo_data = xr.Dataset(data_vars={'pha_tpxo': (('ny','nx'), np.array(pha_tpxo)),\n",
    "                                     'amp_tpxo': (('ny','nx'), np.array(amp_tpxo)),\n",
    "                                     'hz_tpxo': (('ny','nx'), np.array(hz_tpxo))},\n",
    "                          coords={'lon': (('ny', 'nx'), np.array(lon_tpxo)), \n",
    "                                  'lat': (('ny', 'nx'), np.array(lat_tpxo))})\n",
    "ds_mom6_grid = xr.Dataset({\"lat\": ([\"yh\",\"xh\"], np.array(geolat)),\n",
    "                           \"lon\": ([\"yh\",\"xh\"], np.array(geolon))})\n",
    "regridder = xe.Regridder(ds_tpxo_data, ds_mom6_grid, \"bilinear\", extrap_method=\"inverse_dist\")\n",
    "ds_tpxo_mom6_grid = regridder(ds_tpxo_data)"
   ]
  },
  {
   "cell_type": "markdown",
   "id": "6f4904bc-19d1-4dd4-9d84-f9473e99692e",
   "metadata": {},
   "source": [
    "### Calculate TPXO tidal elevation"
   ]
  },
  {
   "cell_type": "code",
   "execution_count": null,
   "id": "75baabce-2bb9-4bac-803f-39f7cef33e49",
   "metadata": {},
   "outputs": [],
   "source": [
    "days = np.array([0,31,28,31,30,31,30,31,31,30,31,30,31])\n",
    "days_accum = np.cumsum(days)\n",
    "print(days_accum)"
   ]
  },
  {
   "cell_type": "code",
   "execution_count": null,
   "id": "5b24afbe-a65e-40f5-abb1-61b18d5b3970",
   "metadata": {},
   "outputs": [],
   "source": [
    "t_19cyc = np.arange(236)\n",
    "nt = t_19cyc.size\n",
    "omega_m2 = np.full((nt,yh.size,xh.size),2*np.pi/12.4206014)\n",
    "elev_tpxo = np.array(ds_tpxo_mom6_grid['amp_tpxo'])[None,:,:] * np.cos(omega_m2 * (t_19cyc[:,None,None]+days_accum[2]*24) - np.array(ds_tpxo_mom6_grid['pha_tpxo'])[None,:,:])"
   ]
  },
  {
   "cell_type": "code",
   "execution_count": null,
   "id": "ef3e7853-5fed-4aba-b9f2-7a0664c21000",
   "metadata": {},
   "outputs": [],
   "source": [
    "elev_mom6 = np.array(data.e.isel({'time':np.arange(236),'zi':0})) * np.array(fac_lat)[None,:,:] * np.array(fac_dep)[None,:,:]\n",
    "elev_mom6_recon = np.array(amp_mom6)[None,:,:] * np.cos(omega_m2 * (t_19cyc[:,None,None]+days_accum[2]*24) - np.array(pha_mom6)[None,:,:]) * np.array(fac_lat)[None,:,:] * np.array(fac_dep)[None,:,:]"
   ]
  },
  {
   "cell_type": "code",
   "execution_count": null,
   "id": "5e313502-fbf9-4d97-982a-cda850c113dd",
   "metadata": {},
   "outputs": [],
   "source": [
    "print(np.nanmean(elev_mom6))\n",
    "print(np.nanmean(elev_mom6_recon))"
   ]
  },
  {
   "cell_type": "code",
   "execution_count": null,
   "id": "bd5542aa-c321-4ab7-ab28-ebbee4d1c6e5",
   "metadata": {},
   "outputs": [],
   "source": [
    "yind, xind = 600, 1000\n",
    "plt.plot(elev_mom6[:,yind,xind],'k--',linewidth=2)\n",
    "plt.plot(elev_mom6_recon[:,yind,xind],'r',linewidth=2,alpha=0.3)"
   ]
  },
  {
   "cell_type": "markdown",
   "id": "718023a9-115c-409c-b840-6a57543167d8",
   "metadata": {},
   "source": [
    "### Calculate the elevation error over the selected period"
   ]
  },
  {
   "cell_type": "code",
   "execution_count": null,
   "id": "2b2d1f85-9b0d-4075-ae28-b733cb539560",
   "metadata": {},
   "outputs": [],
   "source": [
    "elev_err = np.sqrt(np.nanmean( ( elev_mom6 *fac[None,:,:] - elev_tpxo *fac[None,:,:] )**2, axis=0 ))"
   ]
  },
  {
   "cell_type": "code",
   "execution_count": null,
   "id": "e5a5edbf-643f-4d8e-85ac-4ffe0862341f",
   "metadata": {},
   "outputs": [],
   "source": [
    "ele_err_amp = np.sqrt(0.5 * (np.array(amp_mom6) - np.array(ds_tpxo_mom6_grid['amp_tpxo']))**2) * fac\n",
    "ele_err_pha = np.sqrt(np.array(amp_mom6) * np.array(ds_tpxo_mom6_grid['amp_tpxo']) * (1 - np.cos(np.array(pha_mom6) - np.array(ds_tpxo_mom6_grid['pha_tpxo'])))) * fac"
   ]
  },
  {
   "cell_type": "markdown",
   "id": "ccf652d4-f2e3-488e-85b6-8467896ec173",
   "metadata": {},
   "source": [
    "### Plot amplitude-induced elevation error and phase-induced elevation error"
   ]
  },
  {
   "cell_type": "code",
   "execution_count": null,
   "id": "6dd34088-a921-43f7-a7fa-321d067e303f",
   "metadata": {},
   "outputs": [],
   "source": [
    "a = np.sqrt(np.nansum(elev_err**2 * area)/np.nansum(area))*100\n",
    "b = np.sqrt(np.nansum(ele_err_amp**2 * area)/np.nansum(area))*100\n",
    "c = np.sqrt(np.nansum(ele_err_pha**2 * area)/np.nansum(area))*100\n",
    "print(a)\n",
    "print(a**2 - b**2 - c**2)"
   ]
  },
  {
   "cell_type": "code",
   "execution_count": null,
   "id": "1172737c-d40c-4b24-9762-335c51b1b7c2",
   "metadata": {},
   "outputs": [],
   "source": [
    "varlist = ['elev_err','ele_err_amp','ele_err_pha']\n",
    "cb_text = ['elevation error (cm)', 'elevation error (cm)', 'elevation error (cm)']\n",
    "# title   = ['Total \\n Global mean: %.2f cm'%np.sqrt(np.nanmean(elev_err**2))*100,'Amplitude \\n Global mean: %.2f cm'%np.sqrt(np.nanmean(ele_err_amp**2))*100, 'Phase \\n Global mean: %.2f cm'%np.sqrt(np.nanmean(ele_err_pha**2))*100)]\n",
    "title   = ['Total \\n Area-weighted RMSE: %.1f cm' % a,'Amplitude \\n Area-weighted RMSE: %.4f cm' % b, 'Phase \\n Area-weighted RMSE: %.4f cm' % c]\n",
    "\n",
    "fig = plt.figure(figsize=(8, 14))\n",
    "axs = []\n",
    "\n",
    "gridsubs = gridspec.GridSpec(3,1)\n",
    "for gs in gridsubs:\n",
    "    axs.append(plt.subplot(gs))\n",
    "\n",
    "print('Start plotting...')\n",
    "for I, (ax, var) in enumerate(zip(axs, varlist)):\n",
    "    print(I)\n",
    "\n",
    "    ax.spines['top'].set_visible(False)\n",
    "    ax.spines['right'].set_visible(False)\n",
    "    ax.spines['bottom'].set_visible(False)\n",
    "    ax.spines['left'].set_visible(False)\n",
    "    ax.get_xaxis().set_ticks([])\n",
    "    ax.get_yaxis().set_ticks([])\n",
    "\n",
    "    # print('Plotting topog...')\n",
    "    if I<3:\n",
    "        ax = plt.axes(projection=ccrs.Robinson(central_longitude=-100))\n",
    "        # Add model land mask\n",
    "        land.plot.contourf(ax=ax, x='lon', y='lat', colors='darkgrey', zorder=2, transform=ccrs.PlateCarree(), add_colorbar=False)\n",
    "        # Add model coastline\n",
    "        land.fillna(0).plot.contour(ax=ax, x='lon', y='lat', colors='k', levels=[0, 1], transform=ccrs.PlateCarree(), add_colorbar=False, linewidths=2)\n",
    "        tick_locs = np.array([0,0.05,0.10,0.15,0.20,0.25])\n",
    "        tick_labels = np.array([\"0\",\"5\",\"10\",\"15\",\"20\",\"25\"])\n",
    "        \n",
    "    if I==0:\n",
    "        print('Plotting error...')\n",
    "        p1 = ax.pcolormesh(geolon, geolat, globals()[var], transform=ccrs.PlateCarree(), cmap=cm.cm.dense, vmin=0, vmax=0.25) #norm=LogNorm(vmin=1e-2, vmax=1e-0)\n",
    "        ax_cb = plt.axes([0.9, 0.75, 0.008, 0.15])\n",
    "        cb1 = plt.colorbar(p1, cax=ax_cb, orientation='vertical', extend='both')\n",
    "        cb1.ax.set_ylabel(cb_text[I],fontsize=20,rotation=270,labelpad=25);\n",
    "        cb1.ax.tick_params(labelsize=16)\n",
    "        cb1.locator   = matplotlib.ticker.FixedLocator(tick_locs)\n",
    "        cb1.formatter = matplotlib.ticker.FixedFormatter(tick_labels)\n",
    "        ax.set_position([0.1,0.7,0.75,0.25])\n",
    "        ax.set_title(title[I],fontsize=24)\n",
    "    \n",
    "    if I==1:\n",
    "        print('Plotting amp...')\n",
    "        p1 = ax.pcolormesh(geolon, geolat, globals()[var], transform=ccrs.PlateCarree(), cmap=cm.cm.dense, vmin=0, vmax=0.25) #norm=LogNorm(vmin=1e-2, vmax=1e-0)\n",
    "        ax_cb = plt.axes([0.9, 0.45, 0.008, 0.15])\n",
    "        cb1 = plt.colorbar(p1, cax=ax_cb, orientation='vertical', extend='both')\n",
    "        cb1.ax.set_ylabel(cb_text[I],fontsize=20,rotation=270,labelpad=25);\n",
    "        cb1.ax.tick_params(labelsize=16)\n",
    "        cb1.locator   = matplotlib.ticker.FixedLocator(tick_locs)\n",
    "        cb1.formatter = matplotlib.ticker.FixedFormatter(tick_labels)\n",
    "        ax.set_position([0.1,0.4,0.75,0.25])\n",
    "        ax.set_title(title[I],fontsize=24)\n",
    "\n",
    "\n",
    "    if I==2:\n",
    "        print('Plotting phase...')\n",
    "        p1 = ax.pcolormesh(geolon, geolat, globals()[var], transform=ccrs.PlateCarree(), cmap=cm.cm.dense, vmin=0, vmax=0.25)\n",
    "        ax_cb = plt.axes([0.9, 0.15, 0.008, 0.15])\n",
    "        cb1 = plt.colorbar(p1, cax=ax_cb, orientation='vertical', extend='both')\n",
    "        cb1.ax.set_ylabel(cb_text[I],fontsize=20,rotation=270,labelpad=25);\n",
    "        cb1.ax.tick_params(labelsize=16)\n",
    "        cb1.locator   = matplotlib.ticker.FixedLocator(tick_locs)\n",
    "        cb1.formatter = matplotlib.ticker.FixedFormatter(tick_labels)\n",
    "        ax.set_position([0.1,0.1,0.75,0.25])\n",
    "        ax.set_title(title[I],fontsize=24)\n",
    "\n",
    "print('Saving...')\n",
    "plt.savefig('/g/data/nm03/lxy581/evaluate/amp_phase/MOM6_JSL_x6_M2_decompose_amp_pha.png', dpi=300, bbox_inches='tight')\n",
    "# plt.savefig('/g/data/nm03/lxy581/evaluate/amp_phase/MOM6_JSL_M2_masked_x8_006_decompose_amp_pha.png', dpi=300, bbox_inches='tight')"
   ]
  }
 ],
 "metadata": {
  "kernelspec": {
   "display_name": "Python [conda env:analysis3-unstable]",
   "language": "python",
   "name": "conda-env-analysis3-unstable-py"
  },
  "language_info": {
   "codemirror_mode": {
    "name": "ipython",
    "version": 3
   },
   "file_extension": ".py",
   "mimetype": "text/x-python",
   "name": "python",
   "nbconvert_exporter": "python",
   "pygments_lexer": "ipython3",
   "version": "3.10.13"
  }
 },
 "nbformat": 4,
 "nbformat_minor": 5
}
