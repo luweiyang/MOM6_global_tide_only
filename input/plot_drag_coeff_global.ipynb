{
 "cells": [
  {
   "cell_type": "markdown",
   "id": "2833589f-cc75-4462-867d-064f3b4bf7bb",
   "metadata": {},
   "source": [
    "# Global map of drag coefficient"
   ]
  },
  {
   "cell_type": "code",
   "execution_count": 1,
   "id": "b36783eb-9232-4b96-927d-9efe913b8cdd",
   "metadata": {},
   "outputs": [],
   "source": [
    "%matplotlib inline\n",
    "\n",
    "import numpy as np\n",
    "import xesmf as xe\n",
    "import xarray as xr\n",
    "import netCDF4 as nc\n",
    "import cmocean as cm\n",
    "import cartopy.crs as ccrs\n",
    "import matplotlib.pyplot as plt\n",
    "from matplotlib.colors import LogNorm\n",
    "from scipy.interpolate import griddata\n",
    "from gsw import Nsquared, p_from_z, z_from_p\n",
    "  \n",
    "import warnings\n",
    "warnings.filterwarnings('ignore')"
   ]
  },
  {
   "cell_type": "code",
   "execution_count": 2,
   "id": "78521b35-f177-49a1-815a-9ac3f7356ca9",
   "metadata": {},
   "outputs": [],
   "source": [
    "nx = 360\n",
    "ny = 180\n",
    "lat = np.full((ny),np.nan)\n",
    "lon = np.full((nx),np.nan)\n",
    "sigma_x = np.full((ny,nx),np.nan)\n",
    "sigma_y = np.full((ny,nx),np.nan)\n",
    "depth_z = np.full((ny,nx),np.nan)"
   ]
  },
  {
   "cell_type": "markdown",
   "id": "43798ebb-0b43-4308-9092-c9e77196ad9a",
   "metadata": {},
   "source": [
    "## Ocean depth"
   ]
  },
  {
   "cell_type": "code",
   "execution_count": 3,
   "id": "bfb1ef3b-144f-4e50-b3ea-30100685789f",
   "metadata": {},
   "outputs": [
    {
     "name": "stdout",
     "output_type": "stream",
     "text": [
      "0.3.0\n"
     ]
    }
   ],
   "source": [
    "topog = xr.open_dataset('/g/data/nm03/lxy581/synbath/SYNBATH.nc')\n",
    "\n",
    "def get_depth(lon,lat):\n",
    "    return topog.z.interp(lat=lat,lon=lon).values"
   ]
  },
  {
   "cell_type": "markdown",
   "id": "78eca69f-9af5-46d8-b22f-76b8403a3321",
   "metadata": {},
   "source": [
    "## Loop through tiles and re-construct drag coefficient arrays"
   ]
  },
  {
   "cell_type": "code",
   "execution_count": 4,
   "id": "349eb19a-131d-4082-a9c6-6800fc7c74ab",
   "metadata": {},
   "outputs": [],
   "source": [
    "for i in range(400):\n",
    "    # print(i+1)\n",
    "    filename = '/g/data/nm03/lxy581/global_drag_coeff/sigma_xy_2d_%03d.nc' % (i+1)\n",
    "    # print(filename)\n",
    "    itile = xr.open_dataset(filename)\n",
    "\n",
    "    # infer the lon & lat from itile\n",
    "    ilon = i//20+1\n",
    "    ilat = i+1 - (ilon-1)*20\n",
    "    # print(ilon,ilat)\n",
    "    \n",
    "    lon[(ilon-1)*18:ilon*18] = itile.lon\n",
    "    lat[(ilat-1)*9:ilat*9] = itile.lat\n",
    "    sigma_x[(ilat-1)*9:ilat*9,(ilon-1)*18:ilon*18] = itile.sigma_x\n",
    "    sigma_y[(ilat-1)*9:ilat*9,(ilon-1)*18:ilon*18] = itile.sigma_y    "
   ]
  },
  {
   "cell_type": "markdown",
   "id": "aec604ae-5937-4955-a526-e013241c7f0b",
   "metadata": {},
   "source": [
    "## Integrate drag coefficient along z-dir"
   ]
  },
  {
   "cell_type": "code",
   "execution_count": 5,
   "id": "4119c8f7-a3fb-412b-a59e-0a62979b077d",
   "metadata": {},
   "outputs": [],
   "source": [
    "for j in range(ny):\n",
    "    for i in range(nx):\n",
    "        depth_z[j,i] = get_depth(lon[i],lat[j])"
   ]
  },
  {
   "cell_type": "code",
   "execution_count": 6,
   "id": "c429798f-3666-413c-ab4c-5f3ec610c7eb",
   "metadata": {},
   "outputs": [],
   "source": [
    "depth_z[depth_z>0]=np.nan\n",
    "depth_xr = xr.DataArray(depth_z, coords={'lat': lat, 'lon': lon}, dims=[\"lat\", \"lon\"])\n",
    "# depth_xr.plot()"
   ]
  },
  {
   "cell_type": "code",
   "execution_count": 7,
   "id": "b22878af-825f-4216-9d99-c1f6b29d9a57",
   "metadata": {},
   "outputs": [],
   "source": [
    "sigma_x_zint = sigma_x * depth_z\n",
    "sigma_y_zint = sigma_y * depth_z\n",
    "sigma_zint = np.sqrt(sigma_x_zint**2+sigma_y_zint**2)"
   ]
  },
  {
   "cell_type": "code",
   "execution_count": 8,
   "id": "bde5fdb3-2800-4241-b389-86714175e7c6",
   "metadata": {},
   "outputs": [],
   "source": [
    "sigma_x_xr = xr.DataArray(sigma_x_zint, coords={'lat': lat, 'lon': lon}, dims=[\"lat\", \"lon\"])\n",
    "sigma_y_xr = xr.DataArray(sigma_y_zint, coords={'lat': lat, 'lon': lon}, dims=[\"lat\", \"lon\"])\n",
    "sigma_xr   = xr.DataArray(sigma_zint, coords={'lat': lat, 'lon': lon}, dims=[\"lat\", \"lon\"])"
   ]
  },
  {
   "cell_type": "markdown",
   "id": "3769e25f-d10c-47f3-bfab-fb45b6db2848",
   "metadata": {},
   "source": [
    "## Interpolate to remove the missing band near 180°"
   ]
  },
  {
   "cell_type": "code",
   "execution_count": 9,
   "id": "cf238926-f28a-4b16-a82c-ce0a5b50c0b7",
   "metadata": {},
   "outputs": [],
   "source": [
    "mask_array = ~np.isnan(np.array(sigma_x_xr))\n",
    "ds = xr.Dataset(data_vars={\n",
    "                'sigma_x_xr': (('lat','lon'), np.array(sigma_x_xr)),\n",
    "                'sigma_y_xr': (('lat','lon'), np.array(sigma_y_xr)),\n",
    "                'sigma_xr': (('lat','lon'), np.array(sigma_xr)),\n",
    "                'mask': (('lat','lon'), mask_array)\n",
    "                }, \n",
    "                coords={'lon': sigma_x_xr.lon,'lat': sigma_x_xr.lat})\n",
    "ds_out = xr.Dataset({\"lat\": ([\"lat\"], lat[16:-16]),\n",
    "                     \"lon\": ([\"lon\"], lon),\n",
    "                     \"mask\": ([\"lat\",\"lon\"], ~np.isnan(depth_z[16:-16,:]))})\n",
    "regridder = xe.Regridder(ds, ds_out, \"bilinear\", extrap_method=\"inverse_dist\")\n",
    "ds_out = regridder(ds)"
   ]
  },
  {
   "cell_type": "markdown",
   "id": "f1fec18c-063c-49ad-b6fa-59e4ca5273f7",
   "metadata": {},
   "source": [
    "## Interpolate to 1/4° grid"
   ]
  },
  {
   "cell_type": "code",
   "execution_count": null,
   "id": "26993d80-b42e-4766-8c83-d955ebb1bbbd",
   "metadata": {},
   "outputs": [],
   "source": [
    "ds_low = xr.Dataset(data_vars={\n",
    "                               'sigma_x_25': (('lat','lon'), np.array(ds_out['sigma_x_xr'])),\n",
    "                               'sigma_y_25': (('lat','lon'), np.array(ds_out['sigma_y_xr'])),\n",
    "                               'sigma_25': (('lat','lon'), np.array(ds_out['sigma_xr'])),\n",
    "                               'mask': (('lat','lon'), ~np.isnan(depth_z[16:-16,:]))\n",
    "                               }, \n",
    "                    coords={'lon': ds_out['lon'],'lat': ds_out['lat']})\n",
    "ds_high = xr.Dataset({\"lat\": ([\"lat\"], np.arange(-75,75+0.25,0.25)),\n",
    "                      \"lon\": ([\"lon\"], np.arange(-180,180+0.25,0.25)),\n",
    "                     })\n",
    "regridder2 = xe.Regridder(ds_low, ds_high, \"bilinear\", extrap_method=\"inverse_dist\")\n",
    "ds_high = regridder2(ds_low)"
   ]
  },
  {
   "cell_type": "markdown",
   "id": "d5a72055-e61f-4e57-aa5e-bf574fab80d8",
   "metadata": {},
   "source": [
    "## Plot drag coefficient (x-dir, y-dir, magnitude)"
   ]
  },
  {
   "cell_type": "code",
   "execution_count": null,
   "id": "e0883f81-8e93-4484-873b-ea24d99ea169",
   "metadata": {},
   "outputs": [],
   "source": [
    "def plot_global(lon,lat,sigma,dir,vmin,vmax):\n",
    "    fig = plt.figure(figsize=(8, 6))\n",
    "    ax1 = plt.axes(projection=ccrs.Robinson(central_longitude=-100))\n",
    "    \n",
    "    # Add model land mask\n",
    "    land = xr.where(np.isnan(depth_xr[:,:].rename('land')), 1, np.nan)\n",
    "    land.plot.contourf(ax=ax1, colors='darkgrey', zorder=2, transform=ccrs.PlateCarree(), add_colorbar=False)\n",
    "    # Add model coastline\n",
    "    land.fillna(0).plot.contour(ax=ax1, colors='k', levels=[0, 1], transform=ccrs.PlateCarree(), add_colorbar=False, linewidths=0.5)\n",
    "    \n",
    "    p1 = ax1.pcolormesh(lon, lat, -sigma, transform=ccrs.PlateCarree(), cmap=cm.cm.deep, norm=LogNorm(vmin=vmin, vmax=vmax))\n",
    "    plt.title('Internal tide drag coefficient (%s)' % dir)\n",
    "    \n",
    "    ax1_cb = plt.axes([0.92, 0.25, 0.015, 0.5])\n",
    "    cb1 = plt.colorbar(p1, cax=ax1_cb, orientation='vertical', extend='both')\n",
    "    cb1.ax.set_ylabel(r'$\\sigma$ (m s$^{-1}$)');\n",
    "    return "
   ]
  },
  {
   "cell_type": "code",
   "execution_count": null,
   "id": "4549185d-4851-435f-b9b1-6e852cd8ac27",
   "metadata": {},
   "outputs": [],
   "source": [
    "#plot_global(ds_out['lon'],ds_out['lat'],ds_out['sigma_x_xr'],'x-dir',1e-4,1e-1)\n",
    "plot_global(ds_high['lon'],ds_high['lat'],ds_high['sigma_x_25'],'x-dir',1e-4,1e-1)"
   ]
  },
  {
   "cell_type": "code",
   "execution_count": null,
   "id": "05244550-1733-4217-8c4f-d64a1efed492",
   "metadata": {},
   "outputs": [],
   "source": [
    "#plot_global(ds_out['lon'],ds_out['lat'],ds_out['sigma_y_xr'],'y-dir',1e-4,1e-1)\n",
    "plot_global(ds_high['lon'],ds_high['lat'],ds_high['sigma_y_25'],'y-dir',1e-4,1e-1)"
   ]
  },
  {
   "cell_type": "code",
   "execution_count": null,
   "id": "fe167f81-f0a0-4383-8b2e-03f4fbf6df6e",
   "metadata": {},
   "outputs": [],
   "source": [
    "#plot_global(ds_out['lon'],ds_out['lat'],-ds_out['sigma_xr'],'magnitude',1e-4,1e-1)\n",
    "plot_global(ds_high['lon'],ds_high['lat'],-ds_high['sigma_25'],'magnitude',1e-4,1e-1)"
   ]
  }
 ],
 "metadata": {
  "kernelspec": {
   "display_name": "Python [conda env:analysis3-unstable]",
   "language": "python",
   "name": "conda-env-analysis3-unstable-py"
  },
  "language_info": {
   "codemirror_mode": {
    "name": "ipython",
    "version": 3
   },
   "file_extension": ".py",
   "mimetype": "text/x-python",
   "name": "python",
   "nbconvert_exporter": "python",
   "pygments_lexer": "ipython3",
   "version": "3.10.13"
  }
 },
 "nbformat": 4,
 "nbformat_minor": 5
}
