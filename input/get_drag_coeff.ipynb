{
 "cells": [
  {
   "cell_type": "markdown",
   "id": "8102ee5b-d99a-4e94-a4b5-acb70145bfd1",
   "metadata": {},
   "source": [
    "# This is a Python function that computes the internal-tide wave drag coefficient at each grid point"
   ]
  },
  {
   "cell_type": "markdown",
   "id": "0d6e552b-0b6f-40bd-8e2d-65f80d9ce477",
   "metadata": {},
   "source": [
    "Input: \n",
    "- Location: lon, lat\n",
    "- wave frequency (tidal constituent)\n",
    "\n",
    "Steps:\n",
    "1. Get the Coriolis frequency, local depth, bottom stratification\n",
    "2. Estimate the horizontal wavelength of mode-1 $M_2$ internal tides\n",
    "3. Sample the topography \n",
    "4. Perform the spectral analysis (demean, filtering)\n",
    "5. Compute the drag coefficient\n",
    "\n",
    "Output: \n",
    "- Drag coefficients: $\\sigma_x$, $\\sigma_y$"
   ]
  },
  {
   "cell_type": "code",
   "execution_count": 1,
   "id": "ab077e8a-18d7-4ded-8003-05e9776edf74",
   "metadata": {},
   "outputs": [],
   "source": [
    "%matplotlib inline\n",
    "\n",
    "import xrft\n",
    "import math\n",
    "import time\n",
    "import scipy.io\n",
    "import numpy as np\n",
    "import xarray as xr\n",
    "import netCDF4 as nc\n",
    "import cmocean as cm\n",
    "import matplotlib.pyplot as plt\n",
    "import matplotlib.colors as colors\n",
    "\n",
    "from gsw import f\n",
    "from matplotlib.colors import LogNorm\n",
    "from scipy.fftpack import fft2, fftn, fftshift\n",
    "\n",
    "import dask\n",
    "#from dask.distributed import Client, progress\n",
    "\n",
    "import warnings\n",
    "warnings.filterwarnings('ignore')"
   ]
  },
  {
   "cell_type": "markdown",
   "id": "09be8a84-0145-4d88-9662-ccacd84c1746",
   "metadata": {},
   "source": [
    "Create a “cluster” of a scheduler and workers running on the local machine. <br>\n",
    "**threads_per_worker**: number of threads per each worker <br>\n",
    "**n_workers**: number of workers to start"
   ]
  },
  {
   "cell_type": "code",
   "execution_count": 2,
   "id": "6c0345f0-90df-42fc-b905-c592b5b45227",
   "metadata": {},
   "outputs": [],
   "source": [
    "# client = Client(threads_per_worker=4, n_workers=1)\n",
    "# client"
   ]
  },
  {
   "cell_type": "code",
   "execution_count": 3,
   "id": "43737982-8360-4af3-956f-7dd04f2037a4",
   "metadata": {},
   "outputs": [],
   "source": [
    "def drag_coeff(lon,lat):\n",
    "\n",
    "    omega = 2 * np.pi / (12*3600)\n",
    "    print('Computing drag coefficient at (%.1f°E,%.1f°N)... \\n' % (lon,lat))\n",
    "    # estimate the mode-1 wavelength\n",
    "    f_loc = f(lat)\n",
    "    N_loc = get_N_clim(lon,lat) * 2 * np.pi\n",
    "    topog = xr.open_dataset('/g/data/nm03/lxy581/synbath/SYNBATH.nc')\n",
    "    depth = topog.z\n",
    "    H_loc = -depth.interp(lat=lat,lon=lon).values\n",
    "    kh = estimate_kh(omega,f_loc,N_loc,H_loc)\n",
    "    print('The horizontal wavelength of the mode-1 M2 internal tides is approx. %d km. \\n' % (2 * np.pi / kh / 1000))\n",
    "\n",
    "    \n",
    "    # compute the sampling step in deg based on the wavelength of mode-1 waves\n",
    "    delta_lon, delta_lat = get_delta(lat)\n",
    "    #print('The distance per degree lon is %.1f km.' % delta_lon)\n",
    "    #print('The distance per degree lat is %.1f km. \\n' % delta_lat)\n",
    "    step_lon, step_lat = get_radius_in_deg(kh,lon,lat,delta_lon,delta_lat)\n",
    "    step = max(step_lon, step_lat)\n",
    "    #print('The sampling step is %.1f degree.' % step)\n",
    "    \n",
    "    \n",
    "    # sample the topography\n",
    "    topog_sample = depth.where((topog.lon>lon-step) & (topog.lon<lon+step) & (topog.lat>lat-step) & (topog.lat<lat+step), drop=True)\n",
    "    #print('Shape of the sampled topog: \\n', topog_sample.shape)\n",
    "\n",
    "    \n",
    "    # perform spectral analysis\n",
    "    #print('Spectral analysis... \\n')\n",
    "    #topog_spd_1d, kh_1d, topog_spd_2d, kx_2d, ky_2d, dk, dl, dy, dx = spectral_analysis(topog_sample,lat,delta_lon,delta_lat)\n",
    "    topog_spd_2d, dx, dy = fft_topog(topog_sample,delta_lon,delta_lat,k_grid_units=False)\n",
    "    #print('Azimuthal summing... \\n')\n",
    "    #topog_spd_1d = azimuthal_sum(topog_spd_2d)\n",
    "\n",
    "    \n",
    "    # check Parseval's theorem\n",
    "    print('Checking Parsevals theorem...')\n",
    "    dkx, dky = np.max(np.diff(topog_spd_2d.kx)), np.max(np.diff(topog_spd_2d.ky))\n",
    "    #dkh = np.max(np.diff(topog_spd_1d.k))\n",
    "    fft2dsum = topog_spd_2d.sum().sum()*dkx*dky\n",
    "    #fft1dsum = topog_spd_1d.sum()*dkh\n",
    "    print('2D sum (k-space)     = %3.2e' % fft2dsum)\n",
    "    #print('Radial sum (k-space) = %3.2e' % fft1dsum)\n",
    "    var_int_x = np.nansum(topog_sample **2 * dy * dx)\n",
    "    print('2D sum (x-space)     = %3.2e \\n' % var_int_x)\n",
    "    \n",
    "    \n",
    "    # compute the drag coefficient\n",
    "    #print('Computing the drag coeff...')\n",
    "    A_loc = 2 * step * delta_lon * 1e+3 * 2 * step * delta_lat * 1e+3 \n",
    "    sigma_x, sigma_y = compute_drag_coeff(A_loc,N_loc,H_loc,topog_spd_2d)\n",
    "    print('Drag coefficient (x-dir): %3.2e' % sigma_x)\n",
    "    print('Drag coefficient (y-dir): %3.2e' % sigma_y)\n",
    "\n",
    "    \n",
    "    return sigma_x, sigma_y"
   ]
  },
  {
   "cell_type": "code",
   "execution_count": 4,
   "id": "71b956c4-1498-46c6-b2f9-0eee925c225f",
   "metadata": {},
   "outputs": [],
   "source": [
    "def get_N_clim(lon,lat):\n",
    "    \n",
    "    Nbot_data = xr.open_dataset('/g/data/nm03/lxy581/WOA18/Nbot_1000m_woa18.nc')\n",
    "\n",
    "    # Read bottom N and convert the unit to rad/s\n",
    "    Nbot_1km = Nbot_data.Nbot * 2 * np.pi\n",
    "\n",
    "    # Use the 2D interpolation to find the bottom N\n",
    "    N_clim = Nbot_1km.interp(lat=lat,lon=lon).values\n",
    "    \n",
    "    return N_clim"
   ]
  },
  {
   "cell_type": "code",
   "execution_count": 5,
   "id": "2daee4e1-d074-4a88-b0de-caf3005f3614",
   "metadata": {},
   "outputs": [],
   "source": [
    "def estimate_kh(omega,f_loc,N_loc,H_loc):\n",
    "    \n",
    "    kh = np.sqrt((omega**2-f_loc**2)*np.pi**2/N_loc**2/H_loc**2)\n",
    "    \n",
    "    return kh"
   ]
  },
  {
   "cell_type": "code",
   "execution_count": 6,
   "id": "2ab80e3c-1471-439d-8058-6cea946906e3",
   "metadata": {},
   "outputs": [],
   "source": [
    "def get_delta(lat):\n",
    "\n",
    "    # compute the distance in km at this lon and lat\n",
    "    delta_lon = 2 * np.pi * (6371 * np.cos(lat*np.pi/180)) / 360\n",
    "    delta_lat = 1 * np.pi * 6371 / 180\n",
    "    \n",
    "    return delta_lon, delta_lat"
   ]
  },
  {
   "cell_type": "code",
   "execution_count": 7,
   "id": "f1d603af-ffd8-432b-beec-ab6335c90408",
   "metadata": {},
   "outputs": [],
   "source": [
    "def get_radius_in_deg(kh,lon,lat,delta_lon,delta_lat):\n",
    "    \n",
    "    radius = 2 * np.pi / kh / 1000 / 2\n",
    "\n",
    "    step_lon  = round(radius / delta_lon, 1)\n",
    "    step_lat  = round(radius / delta_lat, 1)\n",
    "    \n",
    "    return step_lon, step_lat"
   ]
  },
  {
   "cell_type": "code",
   "execution_count": 8,
   "id": "7b915594-5ca0-42ea-b37b-ad2c493e3b13",
   "metadata": {},
   "outputs": [],
   "source": [
    "def filtering(topog_sample):\n",
    "    \n",
    "    ydim, xdim = topog_sample.dims\n",
    "    nx = topog_sample[xdim].size\n",
    "    ny = topog_sample[ydim].size\n",
    "    win_2d = np.full((ny,nx), np.nan)\n",
    "    radi = topog_sample.shape[0] / 2\n",
    "    for i in range(topog_sample.shape[0]):\n",
    "      for j in range(topog_sample.shape[0]):\n",
    "        win_2d[j,i] = 1 - ( ((i-radi)/radi)**2 + ((j-radi)/radi)**2 )\n",
    "    win_2d[win_2d<0]=0\n",
    "\n",
    "    fac = np.sqrt(win_2d.size / np.sum(win_2d**2))\n",
    "    win_2d = win_2d * fac\n",
    "    win_2d_xr = xr.DataArray(win_2d, coords={'y': np.arange(ny), 'x': np.arange(nx)}, dims=[\"y\", \"x\"])\n",
    "    \n",
    "    topog_filt = np.array(topog_sample) * np.array(win_2d_xr)\n",
    "    topog_filt = xr.DataArray(topog_filt, coords=topog_sample.coords, dims=topog_sample.dims)\n",
    "    \n",
    "    return topog_filt"
   ]
  },
  {
   "cell_type": "code",
   "execution_count": 9,
   "id": "fbfe236f-1bb1-474d-8df8-1db06f8c97ac",
   "metadata": {},
   "outputs": [],
   "source": [
    "def fft_topog(topog,delta_lon,delta_lat,k_grid_units=True):\n",
    "\n",
    "    ydim, xdim = topog.dims\n",
    "    nx = topog[xdim].size\n",
    "    ny = topog[ydim].size\n",
    "    dx = np.mean(np.diff(topog[xdim]))*delta_lon*1e+3\n",
    "    dy = np.mean(np.diff(topog[ydim]))*delta_lat*1e+3\n",
    "\n",
    "    # demean\n",
    "    topog -= topog.mean(skipna=True)\n",
    "    \n",
    "    # windowing\n",
    "    topog_filt = filtering(topog)\n",
    "\n",
    "    # FFT\n",
    "    topog_fft = fft2(topog.values)\n",
    "    topog_spd = (topog_fft*topog_fft.conjugate()).real\n",
    "    topog_spd[0,0] = np.nan          # nan at removed zero frequency\n",
    "    topog_spd = fftshift(topog_spd)  # put zero wavenumber in array centre\n",
    "    topog_spd *= dx*dy\n",
    "\n",
    "    if (k_grid_units):\n",
    "        # k in units cycles/dx:\n",
    "        topog_spd = xr.DataArray(topog_spd, dims=['ky','kx'], \n",
    "                                 coords={'ky': np.linspace(-0.5, 0.5+(ny%2-1)/ny, num=ny), \n",
    "                                         'kx': np.linspace(-0.5, 0.5+(nx%2-1)/nx, num=nx)},\n",
    "                                 attrs={'long_name': 'wavenumber spectrum in grid units'})\n",
    "        topog_spd.kx.attrs['units'] = 'cycles/dx'\n",
    "        topog_spd.ky.attrs['units'] = 'cycles/dy'\n",
    "        topog_spd.kx.attrs['long_name'] = 'x wavenumber'\n",
    "        topog_spd.ky.attrs['long_name'] = 'y wavenumber'\n",
    "\n",
    "        # No rescaling\n",
    "\n",
    "    else:\n",
    "        # k in units cycles/(units of dx)\n",
    "        topog_spd = xr.DataArray(topog_spd, dims=['ky','kx'], \n",
    "                                 coords={'ky': np.linspace(-0.5, 0.5+(ny%2-1)/ny, num=ny)*(2*np.pi/dy),\n",
    "                                         'kx': np.linspace(-0.5, 0.5+(nx%2-1)/nx, num=nx)*(2*np.pi/dx)},\n",
    "                                 attrs={'long_name': 'wavenumber spectrum in grid units'})\n",
    "        topog_spd.kx.attrs['units'] = 'radians/meters'\n",
    "        topog_spd.ky.attrs['units'] = 'radians/meters'\n",
    "        topog_spd.kx.attrs['long_name'] = 'x wavenumber'\n",
    "        topog_spd.ky.attrs['long_name'] = 'y wavenumber'\n",
    "\n",
    "        # Rescale to satisfy Parseval's theorem:\n",
    "        topog_spd /= 4*np.pi**2./dx/dy\n",
    "\n",
    "    return topog_spd, dx, dy"
   ]
  },
  {
   "cell_type": "code",
   "execution_count": 10,
   "id": "f273cdde-0c4f-440e-98b1-3c7855fa2042",
   "metadata": {},
   "outputs": [],
   "source": [
    "def azimuthal_sum(topog_spd):  \n",
    "    \n",
    "    # following DurranWeynMenchaca2017a http://dx.doi.org/10.1175/MWR-D-17-0056.1\n",
    "    # omits zero wavenumber\n",
    "    dkh = np.max([np.max(np.diff(topog_spd.kx)), np.max(np.diff(topog_spd.ky))])\n",
    "    dkmin = np.min([np.min(np.diff(topog_spd.kx)), np.min(np.diff(topog_spd.ky))])\n",
    "    \n",
    "    # extends sqrt(2) times further to get into corners\n",
    "    Nmax = int(np.ceil(np.sqrt(2)*max(topog_spd.shape)/2))  \n",
    "    kp = dkh*range(1,Nmax+1)\n",
    "    \n",
    "    # number of wavenumber points in each annulus (C in DurranWeynMenchaca2017a)\n",
    "    C = 0.0*kp  \n",
    "    fftradial = 0.0*kp\n",
    "    radius = np.sqrt(topog_spd.kx**2+topog_spd.ky**2)\n",
    "    ones = 1 + 0*topog_spd\n",
    "    \n",
    "    # sum in each annulus\n",
    "    for i,k in enumerate(kp):\n",
    "        fftradial[i] = topog_spd.where(radius>=k-dkh/2).where(radius<k+dkh/2).sum()\n",
    "        C[i] = ones.where(radius>k-dkh/2).where(radius<=k+dkh/2).sum()\n",
    "\n",
    "    # scale as in eq (24) (assuming scaling in eq (22) is already done)\n",
    "    fftradial *= dkmin  \n",
    "\n",
    "    # eq (26): compensate for number of (k,l) pairs in each annulus\n",
    "    # Parseval's theorem no longer exactly holds (p 3905)\n",
    "    C = np.where(C==0, 1, C)  # ensures no division by zero (fftradial=0 there anyway)\n",
    "    fftradial *= 2.0*np.pi*kp/C/dkmin\n",
    "\n",
    "    fftradial = xr.DataArray(fftradial, dims=['k'], coords={'k': kp})\n",
    "    fftradial.k.attrs['units'] = topog_spd.kx.attrs['units']\n",
    "    fftradial.k.attrs['long_name'] = 'wavenumber magnitude'\n",
    "\n",
    "    # Truncate spectrum at Nyquist frequency (high k's in corners are anisotropically sampled):\n",
    "    # Also breaks Parseval's theorem\n",
    "    kminmax = np.min([np.max(topog_spd.kx), np.max(topog_spd.ky)])\n",
    "    fftradial = fftradial.sel(k=slice(0.,kminmax))    \n",
    "\n",
    "    return fftradial"
   ]
  },
  {
   "cell_type": "code",
   "execution_count": 11,
   "id": "ef16f2cd-fdc0-4fe6-9388-cde71279e8a7",
   "metadata": {},
   "outputs": [],
   "source": [
    "def compute_drag_coeff(A,N,H,topog_spd_2d):\n",
    "    \n",
    "    const = N / (4 * np.pi**2 * H * A)\n",
    "    \n",
    "    kx_2D, ky_2D = np.meshgrid(topog_spd_2d.kx,topog_spd_2d.ky,indexing='xy')\n",
    "    dkx, dky = np.max(np.diff(topog_spd_2d.kx)), np.max(np.diff(topog_spd_2d.ky))\n",
    "    int_x = topog_spd_2d * kx_2D**2 / np.sqrt(kx_2D**2 + ky_2D**2) * dkx * dky\n",
    "    int_y = topog_spd_2d * ky_2D**2 / np.sqrt(kx_2D**2 + ky_2D**2) * dkx * dky\n",
    "    sigma_x = const * np.nansum(int_x[:])\n",
    "    sigma_y = const * np.nansum(int_y[:])\n",
    "    \n",
    "    return sigma_x, sigma_y"
   ]
  },
  {
   "cell_type": "markdown",
   "id": "65a75411-7516-48a2-bf93-80f587748807",
   "metadata": {},
   "source": [
    "### Testing cell below"
   ]
  },
  {
   "cell_type": "markdown",
   "id": "1bcae125-7c95-42e2-a9d9-a8acddf89882",
   "metadata": {},
   "source": [
    "Provide input details for the example: <br>\n",
    "* lon 30$^{\\circ}$W <br>\n",
    "* lat 50$^{\\circ}$N\n",
    "* tidal frequency, in this case, $\\omega_{M_2}$ "
   ]
  },
  {
   "cell_type": "code",
   "execution_count": 12,
   "id": "e3305c06-7a13-465d-8cb0-d9b1f09a0bdc",
   "metadata": {},
   "outputs": [],
   "source": [
    "lon = -30\n",
    "lat = 50"
   ]
  },
  {
   "cell_type": "markdown",
   "id": "b5e779fa-6f66-4b48-9ffe-60c2b9d653b3",
   "metadata": {},
   "source": [
    "Call the function "
   ]
  },
  {
   "cell_type": "code",
   "execution_count": 13,
   "id": "cfe657c0-28e9-472f-8ef0-b36d6c26e7c3",
   "metadata": {},
   "outputs": [
    {
     "name": "stdout",
     "output_type": "stream",
     "text": [
      "Computing drag coefficient at (-30.0°E,50.0°N)... \n",
      "\n",
      "The horizontal wavelength of the mode-1 M2 internal tides is approx. 374 km. \n",
      "\n",
      "Checking Parsevals theorem...\n",
      "2D sum (k-space)     = 7.20e+16\n",
      "2D sum (x-space)     = 7.20e+16 \n",
      "\n",
      "Drag coefficient (x-dir): 1.36e-06\n",
      "Drag coefficient (y-dir): 1.02e-06\n",
      "Execution time: 14.2 seconds! \n",
      "\n"
     ]
    }
   ],
   "source": [
    "start_time = time.time()\n",
    "sigma_x, sigma_y = drag_coeff(lon,lat)\n",
    "end_time = time.time()\n",
    "exe_time = float(end_time - start_time)\n",
    "print(\"Execution time: %.1f seconds! \\n\" % exe_time)"
   ]
  }
 ],
 "metadata": {
  "kernelspec": {
   "display_name": "Python [conda env:analysis3-unstable]",
   "language": "python",
   "name": "conda-env-analysis3-unstable-py"
  },
  "language_info": {
   "codemirror_mode": {
    "name": "ipython",
    "version": 3
   },
   "file_extension": ".py",
   "mimetype": "text/x-python",
   "name": "python",
   "nbconvert_exporter": "python",
   "pygments_lexer": "ipython3",
   "version": "3.10.13"
  }
 },
 "nbformat": 4,
 "nbformat_minor": 5
}
