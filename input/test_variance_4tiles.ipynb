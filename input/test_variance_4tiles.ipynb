{
 "cells": [
  {
   "cell_type": "code",
   "execution_count": 1,
   "id": "dc71f2e0-e64b-4ff2-9b19-44a996516c62",
   "metadata": {},
   "outputs": [],
   "source": [
    "%matplotlib inline\n",
    "\n",
    "import xrft\n",
    "import math\n",
    "import time\n",
    "import scipy.io\n",
    "import numpy as np\n",
    "import xarray as xr\n",
    "import netCDF4 as nc\n",
    "import cmocean as cm\n",
    "import matplotlib\n",
    "from scipy import signal\n",
    "import cartopy.crs as ccrs\n",
    "import matplotlib.pyplot as plt\n",
    "import matplotlib.colors as colors\n",
    "import matplotlib.gridspec as gridspec\n",
    "\n",
    "from gsw import f\n",
    "from matplotlib.colors import LogNorm\n",
    "from scipy.fftpack import fft2, fftn, fftshift\n",
    "\n",
    "import dask\n",
    "\n",
    "import warnings\n",
    "warnings.filterwarnings('ignore')"
   ]
  },
  {
   "cell_type": "code",
   "execution_count": 2,
   "id": "612dc6f4-e661-4d36-8b71-a9ce5ba6d799",
   "metadata": {},
   "outputs": [],
   "source": [
    "def get_delta(lat):\n",
    "\n",
    "    # compute the distance in km at this lon and lat\n",
    "    delta_lon = 2 * np.pi * (6371 * np.cos(lat*np.pi/180)) / 360\n",
    "    delta_lat = 1 * np.pi * 6371 / 180\n",
    "    \n",
    "    return delta_lon, delta_lat"
   ]
  },
  {
   "cell_type": "code",
   "execution_count": 3,
   "id": "f93c4eee-2d84-455f-97ce-95fdc048c7d1",
   "metadata": {},
   "outputs": [
    {
     "name": "stdout",
     "output_type": "stream",
     "text": [
      "Location for the centre point: \n",
      "Lon: 30.0 W; \n",
      "Lat: 50.0 N.\n"
     ]
    }
   ],
   "source": [
    "# select a domain, 10 deg by 10 deg\n",
    "topog = xr.open_dataset('/g/data/nm03/lxy581/synbath/SYNBATH.nc')\n",
    "topog_sample = topog.z[240*135:240*145,240*145:240*155]\n",
    "\n",
    "ydim, xdim = topog_sample.dims\n",
    "nx = topog_sample[xdim].size\n",
    "ny = topog_sample[ydim].size\n",
    "\n",
    "lon = topog_sample.lon\n",
    "lat = topog_sample.lat\n",
    "\n",
    "yind = 240*140-1\n",
    "xind = 240*150-1\n",
    "print('Location for the centre point: \\nLon: %.1f W;' % np.abs(topog.lon[xind].values),'\\nLat: %.1f N.' % topog.lat[yind].values)"
   ]
  },
  {
   "cell_type": "code",
   "execution_count": 4,
   "id": "b33db16e-da58-4e5a-9c2d-83661eb6465f",
   "metadata": {},
   "outputs": [
    {
     "name": "stdout",
     "output_type": "stream",
     "text": [
      "Variance for the entire domain before windowing:  2.83e+17\n"
     ]
    }
   ],
   "source": [
    "lat = 50\n",
    "delta_lon, delta_lat = get_delta(lat)\n",
    "\n",
    "# topog_variance = np.nanmean(topog_sample**2)\n",
    "topog_variance = np.var(topog_sample)\n",
    "\n",
    "A_loc = 10 * delta_lon * 1e+3 * 10 * delta_lat * 1e+3 \n",
    "print('Variance for the entire domain before windowing: % 3.2e' % (topog_variance.values * A_loc))"
   ]
  },
  {
   "cell_type": "code",
   "execution_count": 5,
   "id": "e3e0829f-9131-4daa-8568-4d9aec85227b",
   "metadata": {},
   "outputs": [
    {
     "name": "stdout",
     "output_type": "stream",
     "text": [
      "mean: -3850.94\n",
      "mean: -2966.02\n",
      "mean: -3124.73\n",
      "mean: -3399.51\n"
     ]
    }
   ],
   "source": [
    "var_topog_tile = ['topog_tile_bl','topog_tile_br',\n",
    "                  'topog_tile_tl','topog_tile_tr']\n",
    "\n",
    "# bottom left \n",
    "topog_tile_bl = topog_sample[0:int(ny/2),0:int(nx/2)]\n",
    "print('mean: %.2f'%np.nanmean(topog_tile_bl))\n",
    "\n",
    "# bottom right\n",
    "topog_tile_br = topog_sample[0:int(ny/2),int(nx/2):]\n",
    "print('mean: %.2f'%np.nanmean(topog_tile_br))\n",
    "\n",
    "# top left \n",
    "topog_tile_tl = topog_sample[int(ny/2):,0:int(nx/2)]\n",
    "print('mean: %.2f'%np.nanmean(topog_tile_tl))\n",
    "\n",
    "# top right\n",
    "topog_tile_tr = topog_sample[int(ny/2):,int(nx/2):]\n",
    "print('mean: %.2f'%np.nanmean(topog_tile_tr))"
   ]
  },
  {
   "cell_type": "code",
   "execution_count": 6,
   "id": "12926967-92f4-4382-b8e4-5e2c992ce6cf",
   "metadata": {},
   "outputs": [
    {
     "name": "stdout",
     "output_type": "stream",
     "text": [
      "Variance before windowing: 3.69e+16 \n",
      "Variance before windowing: 5.50e+16 \n",
      "Variance before windowing: 6.87e+16 \n",
      "Variance before windowing: 3.52e+16 \n",
      "1.957843799427504e+17\n"
     ]
    }
   ],
   "source": [
    "A_loc_tile = 5 * delta_lon * 1e+3 * 5 * delta_lat * 1e+3\n",
    "total_var = 0\n",
    "\n",
    "for var_tile in var_topog_tile:\n",
    "    total_var = total_var + np.var(globals()[var_tile]).values * A_loc_tile\n",
    "    print('Variance before windowing: %3.2e '% (np.var(globals()[var_tile]).values * A_loc_tile))\n",
    "\n",
    "print(total_var)"
   ]
  },
  {
   "cell_type": "markdown",
   "id": "7d83d318-cd0e-4d0a-9b05-28060ea68bc3",
   "metadata": {},
   "source": [
    "#### Reconstruct the sampled topography from demeaned tiles"
   ]
  },
  {
   "cell_type": "code",
   "execution_count": 8,
   "id": "e3dcfc12-4f03-44a7-adfb-6b6056980807",
   "metadata": {},
   "outputs": [],
   "source": [
    "topog_tile_bl -= np.nanmean(topog_tile_bl)\n",
    "topog_tile_br -= np.nanmean(topog_tile_br)\n",
    "topog_tile_tl -= np.nanmean(topog_tile_tl)\n",
    "topog_tile_tr -= np.nanmean(topog_tile_tr)"
   ]
  },
  {
   "cell_type": "code",
   "execution_count": 9,
   "id": "c2747ae8-4b2b-44a7-9407-8d9558793519",
   "metadata": {},
   "outputs": [],
   "source": [
    "topog_sample_re = np.zeros((ny,nx))\n",
    "\n",
    "topog_sample_re[0:int(ny/2),0:int(nx/2)] = topog_tile_bl\n",
    "topog_sample_re[0:int(ny/2),int(nx/2):] = topog_tile_br \n",
    "topog_sample_re[int(ny/2):,0:int(nx/2)] = topog_tile_tl \n",
    "topog_sample_re[int(ny/2):,int(nx/2):] = topog_tile_tr "
   ]
  },
  {
   "cell_type": "code",
   "execution_count": 10,
   "id": "4e41cc32-d764-4658-be14-907571212125",
   "metadata": {},
   "outputs": [
    {
     "name": "stdout",
     "output_type": "stream",
     "text": [
      "3.93324276432395e-05\n"
     ]
    }
   ],
   "source": [
    "print(np.nanmean(topog_sample_re))"
   ]
  },
  {
   "cell_type": "code",
   "execution_count": 12,
   "id": "20053526-aa8a-44b8-8332-9f624d8c9cd4",
   "metadata": {},
   "outputs": [
    {
     "name": "stdout",
     "output_type": "stream",
     "text": [
      "Variance for the entire domain before windowing:  1.96e+17\n"
     ]
    }
   ],
   "source": [
    "topog_var_re = np.var(topog_sample_re)\n",
    "\n",
    "A_loc = 10 * delta_lon * 1e+3 * 10 * delta_lat * 1e+3 \n",
    "print('Variance for the entire domain before windowing: % 3.2e' % (topog_var_re * A_loc))"
   ]
  }
 ],
 "metadata": {
  "kernelspec": {
   "display_name": "Python [conda env:analysis3-24.01] *",
   "language": "python",
   "name": "conda-env-analysis3-24.01-py"
  },
  "language_info": {
   "codemirror_mode": {
    "name": "ipython",
    "version": 3
   },
   "file_extension": ".py",
   "mimetype": "text/x-python",
   "name": "python",
   "nbconvert_exporter": "python",
   "pygments_lexer": "ipython3",
   "version": "3.10.13"
  }
 },
 "nbformat": 4,
 "nbformat_minor": 5
}
