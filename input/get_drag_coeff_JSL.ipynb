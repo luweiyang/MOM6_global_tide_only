{
 "cells": [
  {
   "cell_type": "markdown",
   "id": "8102ee5b-d99a-4e94-a4b5-acb70145bfd1",
   "metadata": {},
   "source": [
    "# Computes the internal-tide wave drag coefficient at each grid point (JSL formula)"
   ]
  },
  {
   "cell_type": "markdown",
   "id": "0d6e552b-0b6f-40bd-8e2d-65f80d9ce477",
   "metadata": {},
   "source": [
    "Input: \n",
    "- Location: lon, lat\n",
    "\n",
    "Steps:\n",
    "1. Get the Coriolis frequency, bottom stratification\n",
    "2. Sample the topography \n",
    "3. Fit the 2D topography with a polynomial sloping surface $H = a + bx + cy + dxy$\n",
    "4. Remove the polynomial fit and compute the mean-square topography $h^2$ \n",
    "5. Compute the drag coefficient, $\\frac{1}{2}k_h h^2 N_b$, where $k_h = 2 \\pi / (2~km)$ is a constant\n",
    "\n",
    "Output: \n",
    "- Drag coefficients: $\\sigma$"
   ]
  },
  {
   "cell_type": "code",
   "execution_count": 1,
   "id": "ab077e8a-18d7-4ded-8003-05e9776edf74",
   "metadata": {},
   "outputs": [],
   "source": [
    "%matplotlib inline\n",
    "\n",
    "import xrft\n",
    "import math\n",
    "import time\n",
    "import scipy.io\n",
    "import numpy as np\n",
    "import xarray as xr\n",
    "import netCDF4 as nc\n",
    "import cmocean as cm\n",
    "import cartopy.crs as ccrs\n",
    "import matplotlib.pyplot as plt\n",
    "import matplotlib.colors as colors\n",
    "\n",
    "from gsw import f\n",
    "from matplotlib.colors import LogNorm\n",
    "from scipy.fftpack import fft2, fftn, fftshift\n",
    "\n",
    "import dask\n",
    "#from dask.distributed import Client, progress\n",
    "\n",
    "import warnings\n",
    "warnings.filterwarnings('ignore')"
   ]
  },
  {
   "cell_type": "markdown",
   "id": "09be8a84-0145-4d88-9662-ccacd84c1746",
   "metadata": {},
   "source": [
    "Create a “cluster” of a scheduler and workers running on the local machine. <br>\n",
    "**threads_per_worker**: number of threads per each worker <br>\n",
    "**n_workers**: number of workers to start"
   ]
  },
  {
   "cell_type": "code",
   "execution_count": 2,
   "id": "6c0345f0-90df-42fc-b905-c592b5b45227",
   "metadata": {},
   "outputs": [],
   "source": [
    "# client = Client(threads_per_worker=4, n_workers=1)\n",
    "# client"
   ]
  },
  {
   "cell_type": "code",
   "execution_count": 3,
   "id": "43737982-8360-4af3-956f-7dd04f2037a4",
   "metadata": {},
   "outputs": [],
   "source": [
    "def drag_coeff(lon,lat):\n",
    "    \n",
    "    print('Computing drag coefficient at (%.1f°E,%.1f°N)... \\n' % (lon,lat))\n",
    "    kh    = 2 * np.pi / 1e+4\n",
    "    omega = 2 * np.pi / (12.42*3600)\n",
    "    f_loc = f(lat)\n",
    "    N_loc = get_N_clim(lon,lat) \n",
    "    print('Local bottom stratification is %.1e rad/s' % N_loc)\n",
    "    topog = xr.open_dataset('/g/data/nm03/lxy581/synbath/SYNBATH.nc')\n",
    "    depth = topog.z\n",
    "    if omega>f_loc and omega<N_loc:\n",
    "        \n",
    "        step = 0.25\n",
    "        \n",
    "        # sample the topography\n",
    "        topog_sample = depth.where((topog.lon>lon-step) & (topog.lon<lon+step) & (topog.lat>lat-step) & (topog.lat<lat+step), drop=True)\n",
    "        lon_sample = topog.lon.where((topog.lon>lon-step) & (topog.lon<lon+step), drop=True)\n",
    "        lat_sample = topog.lat.where((topog.lat>lat-step) & (topog.lat<lat+step), drop=True)\n",
    "\n",
    "        # fit the 2D topography with a polynomial sloping surface\n",
    "        LON, LAT = np.meshgrid(lon_sample, lat_sample, copy=False)\n",
    "        X = LON.flatten()\n",
    "        Y = LAT.flatten()\n",
    "        A = np.array([X*0+1, X, Y, X*Y]).T\n",
    "        B = np.array(topog_sample).flatten()\n",
    "        coeff, r, rank, s = np.linalg.lstsq(A, B)\n",
    "        topog_fit = coeff[0] + coeff[1]*LON + coeff[2]*LAT + coeff[3]*LON*LAT\n",
    "        \n",
    "        # instead of removing the mean, subtracting a fitted function\n",
    "        # topog_sample -= topog_sample.mean(skipna=True)\n",
    "        topog_sample -= topog_fit\n",
    "        h_ms = np.nanmean(topog_sample ** 2)\n",
    "        print('mean-square height   = %3.2e \\n' % h_ms)\n",
    "\n",
    "        # compute the drag coefficient\n",
    "        print('Computing the drag coeff...')\n",
    "        sigma = compute_drag_coeff(kh,h_ms,N_loc)\n",
    "        \n",
    "    else:\n",
    "        print('This grid point is poleward of critical latitude.')\n",
    "        sigma = np.nan\n",
    "\n",
    "    print('Drag coefficient: %3.2e' % sigma)\n",
    "\n",
    "    return sigma"
   ]
  },
  {
   "cell_type": "code",
   "execution_count": 4,
   "id": "71b956c4-1498-46c6-b2f9-0eee925c225f",
   "metadata": {},
   "outputs": [],
   "source": [
    "def get_N_clim(lon,lat):\n",
    "    \n",
    "    Nbot_data = xr.open_dataset('/g/data/nm03/lxy581/WOA18/Nbot_1000m_woa18.nc')\n",
    "\n",
    "    # Read bottom N and convert the unit to rad/s\n",
    "    Nbot_1km = Nbot_data.Nbot * 2 * np.pi\n",
    "\n",
    "    # Use the 2D interpolation to find the bottom N\n",
    "    N_clim = Nbot_1km.interp(lat=lat,lon=lon).values\n",
    "    \n",
    "    return N_clim"
   ]
  },
  {
   "cell_type": "code",
   "execution_count": 5,
   "id": "ef16f2cd-fdc0-4fe6-9388-cde71279e8a7",
   "metadata": {},
   "outputs": [],
   "source": [
    "def compute_drag_coeff(kh,h_ms,N):\n",
    "    \n",
    "    sigma = 0.5 * kh * h_ms * N\n",
    "    \n",
    "    return sigma"
   ]
  },
  {
   "cell_type": "markdown",
   "id": "65a75411-7516-48a2-bf93-80f587748807",
   "metadata": {},
   "source": [
    "### Testing cell below"
   ]
  },
  {
   "cell_type": "markdown",
   "id": "1bcae125-7c95-42e2-a9d9-a8acddf89882",
   "metadata": {},
   "source": [
    "Provide input details for the example: <br>\n",
    "* lon 30$^{\\circ}$W <br>\n",
    "* lat 50$^{\\circ}$N\n",
    "* tidal frequency, in this case, $\\omega_{M_2}$ "
   ]
  },
  {
   "cell_type": "code",
   "execution_count": 6,
   "id": "e3305c06-7a13-465d-8cb0-d9b1f09a0bdc",
   "metadata": {},
   "outputs": [],
   "source": [
    "lon = -30\n",
    "lat = 50"
   ]
  },
  {
   "cell_type": "markdown",
   "id": "b5e779fa-6f66-4b48-9ffe-60c2b9d653b3",
   "metadata": {},
   "source": [
    "Call the function "
   ]
  },
  {
   "cell_type": "code",
   "execution_count": 7,
   "id": "cfe657c0-28e9-472f-8ef0-b36d6c26e7c3",
   "metadata": {},
   "outputs": [
    {
     "name": "stdout",
     "output_type": "stream",
     "text": [
      "Computing drag coefficient at (-30.0°E,50.0°N)... \n",
      "\n",
      "0.3.0\n",
      "Local bottom stratification is 9.2e-04 rad/s\n",
      "mean-square height   = 1.74e+05 \n",
      "\n",
      "Computing the drag coeff...\n",
      "Drag coefficient: 5.06e-02\n",
      "Execution time: 31.9 seconds! \n",
      "\n"
     ]
    }
   ],
   "source": [
    "start_time = time.time()\n",
    "sigma = drag_coeff(lon,lat)\n",
    "end_time = time.time()\n",
    "exe_time = float(end_time - start_time)\n",
    "print(\"Execution time: %.1f seconds! \\n\" % exe_time)"
   ]
  }
 ],
 "metadata": {
  "kernelspec": {
   "display_name": "Python [conda env:analysis3-unstable]",
   "language": "python",
   "name": "conda-env-analysis3-unstable-py"
  },
  "language_info": {
   "codemirror_mode": {
    "name": "ipython",
    "version": 3
   },
   "file_extension": ".py",
   "mimetype": "text/x-python",
   "name": "python",
   "nbconvert_exporter": "python",
   "pygments_lexer": "ipython3",
   "version": "3.10.13"
  }
 },
 "nbformat": 4,
 "nbformat_minor": 5
}
