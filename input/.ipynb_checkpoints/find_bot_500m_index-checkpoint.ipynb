{
 "cells": [
  {
   "cell_type": "markdown",
   "id": "4b3178b8-1cb6-4e63-aee5-6c1135f83f6e",
   "metadata": {},
   "source": [
    "# Find the index range for the bottom 500m"
   ]
  },
  {
   "cell_type": "code",
   "execution_count": 1,
   "id": "704abaf9-61b2-4717-8d26-b3a9ebc40766",
   "metadata": {},
   "outputs": [],
   "source": [
    "import numpy as np\n",
    "import xarray as xr\n",
    "import netCDF4 as nc\n",
    "from gsw import Nsquared, p_from_z\n",
    "  \n",
    "import warnings\n",
    "warnings.filterwarnings('ignore')"
   ]
  },
  {
   "cell_type": "markdown",
   "id": "12bb7e7b-a017-4357-a16e-6bf56e99054e",
   "metadata": {},
   "source": [
    "### Load the WOA18 climatological T "
   ]
  },
  {
   "cell_type": "code",
   "execution_count": 2,
   "id": "f8594fb6-10e0-4b55-9edc-2df70a6061ed",
   "metadata": {},
   "outputs": [],
   "source": [
    "data_path = '/g/data/nm03/lxy581/WOA18/'\n",
    "woa18_t00 = xr.open_dataset(data_path + '0_woa18_decav_t00_04.nc',drop_variables='time')\n",
    "\n",
    "lon = woa18_t00.lon\n",
    "lat = woa18_t00.lat\n",
    "dep = woa18_t00.depth\n",
    "\n",
    "t_an = woa18_t00.t_an.squeeze()\n",
    "\n",
    "nx = lon.size\n",
    "ny = lat.size\n",
    "nz = dep.size"
   ]
  },
  {
   "cell_type": "markdown",
   "id": "e6e068b0-2071-4dd1-82ca-9b2fc0dc996b",
   "metadata": {},
   "source": [
    "### Find the index of the last layer above the seafloor and the top layer within the bottom 500m"
   ]
  },
  {
   "cell_type": "code",
   "execution_count": 3,
   "id": "79b7bba7-db20-422f-bf6f-7ebeab6d7e76",
   "metadata": {},
   "outputs": [],
   "source": [
    "# print(t_an[:,100,100].values)\n",
    "# t_an[:,100,100].count()\n",
    "# dep[t_an[:,100,100].count()-1 ]\n",
    "# dep_excl = dep.where(dep <= dep[ t_an[:,100,100].count()-1 ] - 500)\n",
    "# dep_excl.count()\n",
    "# dep[dep_excl.count() - 1]\n",
    "# test_bot_ind = t_an[:,100,100].count() - 1\n",
    "# test_top_ind = dep.where(dep <= dep[t_an[:,100,100].count()-1] - 500).count()-1"
   ]
  },
  {
   "cell_type": "code",
   "execution_count": 4,
   "id": "3055a1b7-0cd8-4eff-8982-563b63478e9b",
   "metadata": {},
   "outputs": [
    {
     "name": "stdout",
     "output_type": "stream",
     "text": [
      "j =  0\n"
     ]
    }
   ],
   "source": [
    "bot_ind = np.full((5,5),np.full)\n",
    "top_ind = np.full((5,5),np.full)\n",
    "for j in range(5):\n",
    "    if j%100 == 0:\n",
    "        print('j = ',j)\n",
    "    for i in range(5):\n",
    "        bot_ind[j,i] = t_an[:,j,i].count()-1\n",
    "        top_ind[j,i] = dep.where(dep <= dep[t_an[:,j,i].count()-1] - 500).count()-1"
   ]
  },
  {
   "cell_type": "markdown",
   "id": "c805eda6-aecf-4193-ab34-e17498e539c0",
   "metadata": {},
   "source": [
    "### Save data"
   ]
  },
  {
   "cell_type": "code",
   "execution_count": 5,
   "id": "4a2aa72e-aef6-4763-9b30-b4e1107558f1",
   "metadata": {},
   "outputs": [],
   "source": [
    "ds = xr.Dataset({'top_layer_index':(('lat', 'lon'), top_ind),'bottom_layer_index':(('lat', 'lon'), bot_ind)},coords={'lon':lon[:5],'lat':lat[:5]})\n",
    "ds.to_netcdf(data_path+'bottom_500m_indices.nc')"
   ]
  }
 ],
 "metadata": {
  "kernelspec": {
   "display_name": "Python 3 (ipykernel)",
   "language": "python",
   "name": "python3"
  },
  "language_info": {
   "codemirror_mode": {
    "name": "ipython",
    "version": 3
   },
   "file_extension": ".py",
   "mimetype": "text/x-python",
   "name": "python",
   "nbconvert_exporter": "python",
   "pygments_lexer": "ipython3",
   "version": "3.9.17"
  }
 },
 "nbformat": 4,
 "nbformat_minor": 5
}
