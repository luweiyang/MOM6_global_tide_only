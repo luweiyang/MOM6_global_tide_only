{
 "cells": [
  {
   "cell_type": "markdown",
   "id": "ddaa4af2-3db4-4151-a649-b174630b62c6",
   "metadata": {},
   "source": [
    "# Compute and plot the bottom-500m-averaged stratification from WOA18"
   ]
  },
  {
   "cell_type": "code",
   "execution_count": 1,
   "id": "8386953f-7260-4f41-a375-2b92e55dddfa",
   "metadata": {},
   "outputs": [],
   "source": [
    "%matplotlib inline\n",
    "\n",
    "import numpy as np\n",
    "import xesmf as xe\n",
    "import xarray as xr\n",
    "import netCDF4 as nc\n",
    "import cmocean as cm\n",
    "import cartopy.crs as ccrs\n",
    "import matplotlib.pyplot as plt\n",
    "from matplotlib.colors import LogNorm\n",
    "from scipy.interpolate import griddata\n",
    "from gsw import Nsquared, p_from_z, z_from_p\n",
    "  \n",
    "import warnings\n",
    "warnings.filterwarnings('ignore')"
   ]
  },
  {
   "cell_type": "markdown",
   "id": "ca12cd9e-5d17-4eef-afbd-abd5c3dd76de",
   "metadata": {},
   "source": [
    "## Load the WOA18 climatological T and S"
   ]
  },
  {
   "cell_type": "code",
   "execution_count": 2,
   "id": "f1dc97d9-42ba-4b06-aba4-b03547cf88ae",
   "metadata": {},
   "outputs": [],
   "source": [
    "woa18_t00 = xr.open_dataset('/g/data/nm03/lxy581/WOA18/0_woa18_decav_t00_04.nc',drop_variables='time')\n",
    "woa18_s00 = xr.open_dataset('/g/data/nm03/lxy581/WOA18/0_woa18_decav_s00_04.nc',drop_variables='time')\n",
    "\n",
    "lon = woa18_t00.lon\n",
    "lat = woa18_t00.lat\n",
    "dep = woa18_t00.depth\n",
    "\n",
    "t_an = woa18_t00.t_an.squeeze()\n",
    "s_an = woa18_s00.s_an.squeeze()\n",
    "\n",
    "nx = lon.size\n",
    "ny = lat.size\n",
    "nz = dep.size"
   ]
  },
  {
   "cell_type": "markdown",
   "id": "9561fe5f-cb32-4413-9026-b0025ddb83ca",
   "metadata": {},
   "source": [
    "## Compute the 3D stratification"
   ]
  },
  {
   "cell_type": "code",
   "execution_count": 3,
   "id": "ec58aa2a-1507-4654-84c4-d631e16faf59",
   "metadata": {},
   "outputs": [],
   "source": [
    "pres = (p_from_z(-woa18_t00.depth,woa18_t00.lat))\n",
    "pres = pres.expand_dims({\"lon\": nx}); pres['lon'] = np.array(woa18_t00.lon)\n",
    "pres = pres.transpose(\"depth\", \"lat\", \"lon\") \n",
    "N2_3D, p_mid = Nsquared(s_an,t_an,pres)\n",
    "N_3D = np.sqrt(N2_3D)"
   ]
  },
  {
   "cell_type": "markdown",
   "id": "d5915db9-40bd-4650-a388-6233369fd011",
   "metadata": {},
   "source": [
    "## Create a mask for the bottom 500m"
   ]
  },
  {
   "cell_type": "markdown",
   "id": "ff8e84ff-232a-401a-9f42-210f8244fa47",
   "metadata": {},
   "source": [
    "Convert dep from xarray to numpy array, compute the dep_mid, and convert it back to xarray"
   ]
  },
  {
   "cell_type": "code",
   "execution_count": 4,
   "id": "1236c620-7dac-4b08-95b6-d048ba7e5d1b",
   "metadata": {},
   "outputs": [],
   "source": [
    "dep_np = np.array(dep)\n",
    "dep_mid_np = (dep_np[:-1] + dep_np[1:])/2"
   ]
  },
  {
   "cell_type": "code",
   "execution_count": 5,
   "id": "6e2e1db5-a507-494e-a498-2d3a998df546",
   "metadata": {},
   "outputs": [],
   "source": [
    "lat_expand = lat.expand_dims({\"depth\":nz-1, \"lon\":nx});\n",
    "lat_expand['depth'] = dep_mid_np\n",
    "lat_expand['lon'] = woa18_t00.lon\n",
    "lat_expand = lat_expand.transpose(\"depth\", \"lat\", \"lon\") "
   ]
  },
  {
   "cell_type": "code",
   "execution_count": 6,
   "id": "47058c06-b255-4c6f-b46e-3e8819b80622",
   "metadata": {},
   "outputs": [],
   "source": [
    "depth_mid = -z_from_p(p_mid,lat_expand) # depth_mid > 0"
   ]
  },
  {
   "cell_type": "code",
   "execution_count": 7,
   "id": "4036bd81-ef61-44de-b5dc-fdf781817bcc",
   "metadata": {},
   "outputs": [],
   "source": [
    "depth_array    = t_an * 0 + woa18_t00.depth\n",
    "max_depth      = depth_array.max(dim='depth', skipna=True)\n",
    "depth_mask_top = depth_mid.where(depth_mid>=max_depth-500)\n",
    "depth_mask_bot = depth_mid.where(depth_mid<max_depth)\n",
    "depth_mask_b5  = depth_mask_top * 0 + depth_mask_bot * 0 + 1 # every other points would be nan"
   ]
  },
  {
   "cell_type": "code",
   "execution_count": 8,
   "id": "28694541-1743-48a3-9509-29ee6c286442",
   "metadata": {},
   "outputs": [],
   "source": [
    "depth_mask_count = depth_mask_b5.sum(dim='depth',skipna=True)\n",
    "#print(depth_mask_count.min,depth_mask_count.max)\n",
    "#yind, xind = 480, 100 \n",
    "#print(t_an[0,yind,xind].values,depth_mask_count[yind,xind].values)\n",
    "#print(lat[yind].values, lon[xind].values)"
   ]
  },
  {
   "cell_type": "markdown",
   "id": "24077490-a87c-4c6e-92dc-74a0b97ffed4",
   "metadata": {},
   "source": [
    "Turns out that the white area is where the stratification is nan in the bottom 500m (e.g., yind = 480, xind = 100)"
   ]
  },
  {
   "cell_type": "markdown",
   "id": "e1916d0f-2ae0-478e-ad67-3ae8d3f8d0e2",
   "metadata": {},
   "source": [
    "## Compute and plot the bottom-500m-averaged N"
   ]
  },
  {
   "cell_type": "code",
   "execution_count": 9,
   "id": "fbebd2b6-b65e-4dd9-b786-c13b0d71ba63",
   "metadata": {},
   "outputs": [],
   "source": [
    "N_3D_b5     = N_3D * depth_mask_b5\n",
    "N_3D_b5_ave = N_3D_b5.mean(dim='depth',skipna=True)/(2*np.pi)"
   ]
  },
  {
   "cell_type": "markdown",
   "id": "0adeb8b1-23fd-4aa3-a3c3-f31e3b892d24",
   "metadata": {},
   "source": [
    "### Interpolation using scipy.interpolate.griddata for numpy array"
   ]
  },
  {
   "cell_type": "code",
   "execution_count": 10,
   "id": "f727d092-2c78-4196-a0eb-fd77c8bf740e",
   "metadata": {},
   "outputs": [],
   "source": [
    "N_3D_b5_array  = np.array(N_3D_b5_ave)\n",
    "\n",
    "x = np.arange(0, N_3D_b5_array.shape[1])\n",
    "y = np.arange(0, N_3D_b5_array.shape[0])\n",
    "#mask invalid values\n",
    "N_3D_b5_array = np.ma.masked_invalid(N_3D_b5_array)\n",
    "xout, yout = np.meshgrid(x, y)\n",
    "#get only the valid values\n",
    "xin = xout[~N_3D_b5_array.mask]\n",
    "yin = yout[~N_3D_b5_array.mask]\n",
    "newarr = N_3D_b5_array[~N_3D_b5_array.mask]\n",
    "\n",
    "N_3D_b5_array_filled = griddata((xin, yin), newarr.ravel(), (xout, yout), method='cubic')\n",
    "\n",
    "N_3D_b5_array_filled = xr.DataArray(N_3D_b5_array_filled, dims=['lat','lon'], \n",
    "                                                    coords={'lat': N_3D_b5_ave.lat, \n",
    "                                                            'lon': N_3D_b5_ave.lon})"
   ]
  },
  {
   "cell_type": "markdown",
   "id": "5c2ef9f4-614e-492b-b1c7-2b005fb0e6e4",
   "metadata": {},
   "source": [
    "### Interpolation using xesmf for xarray"
   ]
  },
  {
   "cell_type": "code",
   "execution_count": null,
   "id": "9655a5f0-4776-4275-9636-97e1db7ddd1b",
   "metadata": {},
   "outputs": [],
   "source": [
    "mask_array = np.array(N_3D_b5_ave)\n",
    "mask_array = ~np.isnan(mask_array)\n",
    "\n",
    "ds = xr.Dataset(data_vars={\n",
    "                'N_3D_b5_ave': (('lat','lon'), np.array(N_3D_b5_ave)),\n",
    "                'mask': (('lat','lon'), mask_array)\n",
    "                }, \n",
    "                coords={'lon': N_3D_b5_ave.lon,'lat': N_3D_b5_ave.lat})\n",
    "ds_out = xr.Dataset({\"lat\": ([\"lat\"], np.array(N_3D_b5_ave.lat)),\n",
    "                     \"lon\": ([\"lon\"], np.array(N_3D_b5_ave.lon))})\n",
    "regridder = xe.Regridder(ds, ds_out, \"bilinear\", extrap_method=\"inverse_dist\")\n",
    "ds_out = regridder(ds)\n",
    "#help(regridder)"
   ]
  },
  {
   "cell_type": "code",
   "execution_count": null,
   "id": "92650b23-2071-4d47-9acf-061b069abd9c",
   "metadata": {},
   "outputs": [],
   "source": [
    "fig = plt.figure(figsize=(8, 6))\n",
    "ax1 = plt.axes(projection=ccrs.Robinson(central_longitude=-100))\n",
    "\n",
    "# Add model land mask\n",
    "land = xr.where(np.isnan(t_an[0,:,:].rename('land')), 1, np.nan)\n",
    "land.plot.contourf(ax=ax1, colors='darkgrey', zorder=2, transform=ccrs.PlateCarree(), add_colorbar=False)\n",
    "# Add model coastline\n",
    "land.fillna(0).plot.contour(ax=ax1, colors='k', levels=[0, 1], transform=ccrs.PlateCarree(), add_colorbar=False, linewidths=0.5)\n",
    "#ax1.plot(lon[xind].values,lat[yind].values,'*',color='r',transform=ccrs.PlateCarree())\n",
    "\n",
    "p1 = ax1.pcolormesh(lon, lat, N_3D_b5_ave, transform=ccrs.PlateCarree(), cmap=cm.cm.deep, norm=LogNorm(vmin=3e-5, vmax=1e-3))\n",
    "plt.title('Bottom-500m-averaged N (WOA18 climatology)')\n",
    "\n",
    "ax1_cb = plt.axes([0.92, 0.25, 0.015, 0.5])\n",
    "cb1 = plt.colorbar(p1, cax=ax1_cb, orientation='vertical', extend='both')\n",
    "cb1.ax.set_ylabel('N (s$^{-1}$)');"
   ]
  },
  {
   "cell_type": "code",
   "execution_count": null,
   "id": "1ce442e2-f34c-45c5-bcec-c723657711c1",
   "metadata": {},
   "outputs": [],
   "source": [
    "fig = plt.figure(figsize=(8, 6))\n",
    "ax1 = plt.axes(projection=ccrs.Robinson(central_longitude=-100))\n",
    "\n",
    "# Add model land mask\n",
    "land = xr.where(np.isnan(t_an[0,:,:].rename('land')), 1, np.nan)\n",
    "land.plot.contourf(ax=ax1, colors='darkgrey', zorder=2, transform=ccrs.PlateCarree(), add_colorbar=False)\n",
    "# Add model coastline\n",
    "land.fillna(0).plot.contour(ax=ax1, colors='k', levels=[0, 1], transform=ccrs.PlateCarree(), add_colorbar=False, linewidths=0.5)\n",
    "\n",
    "p1 = ax1.pcolormesh(lon, lat, N_3D_b5_array_filled, transform=ccrs.PlateCarree(), cmap=cm.cm.deep, norm=LogNorm(vmin=3e-5, vmax=1e-3))\n",
    "plt.title('Bottom-500m-averaged N (WOA18 climatology) \\n interpolated using scipy.interpolate.griddata')\n",
    "\n",
    "ax1_cb = plt.axes([0.92, 0.25, 0.015, 0.5])\n",
    "cb1 = plt.colorbar(p1, cax=ax1_cb, orientation='vertical', extend='both')\n",
    "cb1.ax.set_ylabel('N (s$^{-1}$)');"
   ]
  },
  {
   "cell_type": "code",
   "execution_count": null,
   "id": "b4a16946-8f66-4b5d-9df7-a15aa71a98cb",
   "metadata": {},
   "outputs": [],
   "source": [
    "fig = plt.figure(figsize=(8, 6))\n",
    "ax1 = plt.axes(projection=ccrs.Robinson(central_longitude=-100))\n",
    "\n",
    "# Add model land mask\n",
    "land.plot.contourf(ax=ax1, colors='darkgrey', zorder=2, transform=ccrs.PlateCarree(), add_colorbar=False)\n",
    "# Add model coastline\n",
    "land.fillna(0).plot.contour(ax=ax1, colors='k', levels=[0, 1], transform=ccrs.PlateCarree(), add_colorbar=False, linewidths=0.5)\n",
    "\n",
    "p1 = ax1.pcolormesh(lon, lat, ds_out['N_3D_b5_ave'], transform=ccrs.PlateCarree(), cmap=cm.cm.deep, norm=LogNorm(vmin=3e-5, vmax=1e-3))\n",
    "plt.title('Bottom-500m-averaged N (WOA18 climatology) \\n interpolated using xesmf.Regridder')\n",
    "\n",
    "ax1_cb = plt.axes([0.92, 0.25, 0.015, 0.5])\n",
    "cb1 = plt.colorbar(p1, cax=ax1_cb, orientation='vertical', extend='both')\n",
    "cb1.ax.set_ylabel('N (s$^{-1}$)');"
   ]
  },
  {
   "cell_type": "markdown",
   "id": "9381f5d3-9b4c-44f0-9e36-912df0840629",
   "metadata": {},
   "source": [
    "## Save the bottom-500m-averaged N"
   ]
  },
  {
   "cell_type": "markdown",
   "id": "6c984399-e31a-4d82-ab1f-82ceb9c897ab",
   "metadata": {},
   "source": [
    "Create a DataSet and include the DataArray N_3D_b5_ave"
   ]
  },
  {
   "cell_type": "code",
   "execution_count": null,
   "id": "1b5dcacf-379a-44c8-87ae-45c59432543e",
   "metadata": {},
   "outputs": [],
   "source": [
    "Nbot_data = xr.Dataset({'Nbot': (('lat','lon'), np.array(ds_out['N_3D_b5_ave']))}, \n",
    "                       coords={'lon':lon,'lat':lat})\n",
    "Nbot_data.to_netcdf('/g/data/nm03/lxy581/WOA18/Nbot_1000m_woa18.nc')"
   ]
  }
 ],
 "metadata": {
  "kernelspec": {
   "display_name": "Python 3 (ipykernel)",
   "language": "python",
   "name": "python3"
  },
  "language_info": {
   "codemirror_mode": {
    "name": "ipython",
    "version": 3
   },
   "file_extension": ".py",
   "mimetype": "text/x-python",
   "name": "python",
   "nbconvert_exporter": "python",
   "pygments_lexer": "ipython3",
   "version": "3.10.13"
  }
 },
 "nbformat": 4,
 "nbformat_minor": 5
}
