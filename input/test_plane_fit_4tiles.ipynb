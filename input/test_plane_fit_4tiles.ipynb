{
 "cells": [
  {
   "cell_type": "code",
   "execution_count": 1,
   "id": "dc71f2e0-e64b-4ff2-9b19-44a996516c62",
   "metadata": {},
   "outputs": [],
   "source": [
    "%matplotlib inline\n",
    "\n",
    "import xrft\n",
    "import math\n",
    "import time\n",
    "import scipy.io\n",
    "import numpy as np\n",
    "import xarray as xr\n",
    "import netCDF4 as nc\n",
    "import cmocean as cm\n",
    "import matplotlib\n",
    "from scipy import signal\n",
    "import cartopy.crs as ccrs\n",
    "import matplotlib.pyplot as plt\n",
    "import matplotlib.colors as colors\n",
    "import matplotlib.gridspec as gridspec\n",
    "\n",
    "from gsw import f\n",
    "from matplotlib.colors import LogNorm\n",
    "from scipy.fftpack import fft2, fftn, fftshift\n",
    "\n",
    "import dask\n",
    "\n",
    "import warnings\n",
    "warnings.filterwarnings('ignore')"
   ]
  },
  {
   "cell_type": "code",
   "execution_count": 2,
   "id": "612dc6f4-e661-4d36-8b71-a9ce5ba6d799",
   "metadata": {},
   "outputs": [],
   "source": [
    "def get_delta(lat):\n",
    "\n",
    "    # compute the distance in km at this lon and lat\n",
    "    delta_lon = 2 * np.pi * (6371 * np.cos(lat*np.pi/180)) / 360\n",
    "    delta_lat = 1 * np.pi * 6371 / 180\n",
    "    \n",
    "    return delta_lon, delta_lat"
   ]
  },
  {
   "cell_type": "code",
   "execution_count": 3,
   "id": "f93c4eee-2d84-455f-97ce-95fdc048c7d1",
   "metadata": {},
   "outputs": [
    {
     "name": "stdout",
     "output_type": "stream",
     "text": [
      "Location for the centre point: \n",
      "Lon: 30.0 W; \n",
      "Lat: 50.0 N.\n"
     ]
    }
   ],
   "source": [
    "# select a domain, 10 deg by 10 deg\n",
    "topog = xr.open_dataset('/g/data/nm03/lxy581/synbath/SYNBATH.nc')\n",
    "topog_sample = topog.z[240*135:240*145,240*145:240*155]\n",
    "\n",
    "topog_sample -= topog_sample.mean(skipna=True)\n",
    "\n",
    "ydim, xdim = topog_sample.dims\n",
    "nx = topog_sample[xdim].size\n",
    "ny = topog_sample[ydim].size\n",
    "\n",
    "lon_sample = topog_sample.lon\n",
    "lat_sample = topog_sample.lat\n",
    "\n",
    "yind = 240*140-1\n",
    "xind = 240*150-1\n",
    "print('Location for the centre point: \\nLon: %.1f W;' % np.abs(topog.lon[xind].values),'\\nLat: %.1f N.' % topog.lat[yind].values)"
   ]
  },
  {
   "cell_type": "code",
   "execution_count": 4,
   "id": "b1b78426-84b5-4a3d-9402-f71f13dfc7ca",
   "metadata": {},
   "outputs": [],
   "source": [
    "# fit the filtered 2D topography with a polynomial sloping surface\n",
    "def get_plane_fit(topog_tile, lon_tile, lat_tile):\n",
    "    LON, LAT = np.meshgrid(lon_tile, lat_tile, copy=False)\n",
    "    X = LON.flatten()\n",
    "    Y = LAT.flatten()\n",
    "    A = np.array([np.ones_like(X), X, Y, X*Y]).T\n",
    "    B = np.array(topog_tile).flatten()\n",
    "    coeff, r, rank, s = np.linalg.lstsq(A, B)\n",
    "    topog_fit = coeff[0] + coeff[1]*LON + coeff[2]*LAT + coeff[3]*LON*LAT\n",
    "    return topog_fit"
   ]
  },
  {
   "cell_type": "code",
   "execution_count": 5,
   "id": "b33db16e-da58-4e5a-9c2d-83661eb6465f",
   "metadata": {},
   "outputs": [
    {
     "name": "stdout",
     "output_type": "stream",
     "text": [
      "Mean before changes:  0.002649075\n",
      "Mean after changes:  -6.998772833968461e-10\n",
      "variance of deviation from plane fit (h_JSL) = 1.33e+12 \n",
      "\n"
     ]
    }
   ],
   "source": [
    "print('Mean before changes: ', topog_sample.mean(skipna=True).values)\n",
    "\n",
    "topog_fit = get_plane_fit(topog_sample, lon_sample, lat_sample)\n",
    "\n",
    "# instead of removing the mean, subtracting a plane fit\n",
    "topog_diff = topog_sample - topog_fit\n",
    "print('Mean after changes: ', topog_diff.mean(skipna=True).values)\n",
    "\n",
    "var_JSL = np.nansum(topog_diff ** 2)\n",
    "print('variance of deviation from plane fit (h_JSL) = %3.2e \\n' % var_JSL)"
   ]
  },
  {
   "cell_type": "code",
   "execution_count": 6,
   "id": "c303c16d-49fc-472d-9aab-05fc589f8bc3",
   "metadata": {},
   "outputs": [],
   "source": [
    "# varlist = ['topog_sample','topog_fit']\n",
    "# title   = ['Sampled topography (demeaned)', 'Plane fit']\n",
    "# levels  = np.arange(-3000,3000+100,100)\n",
    "\n",
    "# fig = plt.figure(figsize=(12, 6))\n",
    "# axs = []\n",
    "\n",
    "# gridsubs = gridspec.GridSpec(1,2)\n",
    "# for gs in gridsubs:\n",
    "#     axs.append(plt.subplot(gs))\n",
    "\n",
    "# for I, (ax, var) in enumerate(zip(axs, varlist)):\n",
    "\n",
    "#     p = ax.contourf(globals()[var], levels=levels, cmap='bwr', vmin=-3000, vmax=3000, extend=\"both\") \n",
    "\n",
    "#     ax.set_title(title[I],fontsize=16)\n",
    "#     ax.set_xticks(np.arange(0,240*10+240*5,240*5))\n",
    "#     ax.set_yticks(np.arange(0,240*10+240*5,240*5))\n",
    "    \n",
    "#     ax.set_xticklabels(['35$^{\\circ}$W','30$^{\\circ}$W','25$^{\\circ}$W'],fontsize=14)\n",
    "#     ax.set_yticklabels(['45$^{\\circ}$N','50$^{\\circ}$N','55$^{\\circ}$N'],fontsize=14)\n",
    "    \n",
    "#     if I==0:\n",
    "#         ax.set_position([0.1,0.1,0.35,0.75])\n",
    "#     if I==1:\n",
    "#         ax.set_position([0.52,0.1,0.35,0.75])\n",
    "\n",
    "#     tick_locs = np.arange(-3000,3000+1000,1000)\n",
    "#     tick_labels = np.array(['-3','-2','-1','0','1','2','3'])\n",
    "    \n",
    "#     if I==1:\n",
    "#         ax_cb = plt.axes([0.89, 0.1, 0.01, 0.75])  \n",
    "#         cb = plt.colorbar(p, cax=ax_cb, orientation='vertical', extend='both')\n",
    "#         cb.ax.set_ylabel('Depth (km)',fontsize=16,rotation=270,labelpad=25);\n",
    "#         cb.ax.tick_params(labelsize=16)\n",
    "#         cb.locator   = matplotlib.ticker.FixedLocator(tick_locs)\n",
    "#         cb.formatter = matplotlib.ticker.FixedFormatter(tick_labels)"
   ]
  },
  {
   "cell_type": "code",
   "execution_count": 7,
   "id": "e3e0829f-9131-4daa-8568-4d9aec85227b",
   "metadata": {},
   "outputs": [
    {
     "name": "stdout",
     "output_type": "stream",
     "text": [
      "variance of deviation from plane fit (h_JSL) = 133200639890.12 \n",
      "\n",
      "variance of deviation from plane fit (h_JSL) = 337362542037.19 \n",
      "\n",
      "variance of deviation from plane fit (h_JSL) = 218504433856.46 \n",
      "\n",
      "variance of deviation from plane fit (h_JSL) = 182461099060.02 \n",
      "\n",
      "Totoal variance = 8.72e+11\n"
     ]
    }
   ],
   "source": [
    "var_topog_tile = ['topog_tile_bl','topog_tile_br',\n",
    "                  'topog_tile_tl','topog_tile_tr']\n",
    "\n",
    "# bottom left \n",
    "topog_tile_bl = topog_sample[0:int(ny/2),0:int(nx/2)]\n",
    "lon_bl = lon_sample[0:int(nx/2)]\n",
    "lat_bl = lat_sample[0:int(ny/2)]\n",
    "topog_fit_bl = get_plane_fit(topog_tile_bl, lon_bl, lat_bl)\n",
    "topog_diff_bl = topog_tile_bl - topog_fit_bl\n",
    "var_JSL_bl = np.nansum(topog_diff_bl ** 2)\n",
    "print('variance of deviation from plane fit (h_JSL) = %.2f \\n' % var_JSL_bl)\n",
    "\n",
    "# bottom right\n",
    "topog_tile_br = topog_sample[0:int(ny/2),int(nx/2):]\n",
    "lon_br = lon_sample[int(nx/2):]\n",
    "lat_br = lat_sample[0:int(ny/2)]\n",
    "topog_fit_br = get_plane_fit(topog_tile_br, lon_br, lat_br)\n",
    "topog_diff_br = topog_tile_br - topog_fit_br\n",
    "var_JSL_br = np.nansum(topog_diff_br ** 2)\n",
    "print('variance of deviation from plane fit (h_JSL) = %.2f \\n' % var_JSL_br)\n",
    "\n",
    "# top left \n",
    "topog_tile_tl = topog_sample[int(ny/2):,0:int(nx/2)]\n",
    "lon_tl = lon_sample[0:int(nx/2)]\n",
    "lat_tl = lat_sample[int(ny/2):]\n",
    "topog_fit_tl = get_plane_fit(topog_tile_tl, lon_tl, lat_tl)\n",
    "topog_diff_tl = topog_tile_tl - topog_fit_tl\n",
    "var_JSL_tl = np.nansum(topog_diff_tl ** 2)\n",
    "print('variance of deviation from plane fit (h_JSL) = %.2f \\n' % var_JSL_tl)\n",
    "\n",
    "# top right\n",
    "topog_tile_tr = topog_sample[int(ny/2):,int(nx/2):]\n",
    "lon_tr = lon_sample[int(nx/2):]\n",
    "lat_tr = lat_sample[int(ny/2):]\n",
    "topog_fit_tr = get_plane_fit(topog_tile_tr, lon_tr, lat_tr)\n",
    "topog_diff_tr = topog_tile_tr - topog_fit_tr\n",
    "var_JSL_tr = np.nansum(topog_diff_tr ** 2)\n",
    "print('variance of deviation from plane fit (h_JSL) = %.2f \\n' % var_JSL_tr)\n",
    "\n",
    "print('Totoal variance = %3.2e' % (var_JSL_bl + var_JSL_br + var_JSL_tl + var_JSL_tr))"
   ]
  },
  {
   "cell_type": "markdown",
   "id": "39dbb3f3-fdcb-4fd8-9f59-551d3a68daad",
   "metadata": {},
   "source": [
    "### Reconstruct the sampled topography from plane fit removed tiles"
   ]
  },
  {
   "cell_type": "code",
   "execution_count": 8,
   "id": "84d67b5c-26ba-446f-924e-feb86f96166e",
   "metadata": {},
   "outputs": [],
   "source": [
    "topog_sample_re = np.zeros((ny,nx))\n",
    "\n",
    "topog_sample_re[0:int(ny/2),0:int(nx/2)] = topog_diff_bl\n",
    "topog_sample_re[0:int(ny/2),int(nx/2):] = topog_diff_br \n",
    "topog_sample_re[int(ny/2):,0:int(nx/2)] = topog_diff_tl \n",
    "topog_sample_re[int(ny/2):,int(nx/2):] = topog_diff_tr "
   ]
  },
  {
   "cell_type": "code",
   "execution_count": 11,
   "id": "b4196331-628d-4bf0-89f0-e6015eaf5bb1",
   "metadata": {},
   "outputs": [
    {
     "name": "stdout",
     "output_type": "stream",
     "text": [
      "variance of deviation from plane fit (reconstructed) = 8.72e+11 \n",
      "\n",
      "variance of deviation from plane fit (reconstructed, plane fit removed) = 8.72e+11 \n",
      "\n",
      "variance of deviation from plane fit (orginial, plane fit removed) = 1.33e+12 \n",
      "\n"
     ]
    }
   ],
   "source": [
    "topog_fit_re = get_plane_fit(topog_sample_re, lon_sample, lat_sample)\n",
    "\n",
    "# instead of removing the mean, subtracting a plane fit\n",
    "topog_diff_re = topog_sample_re - topog_fit_re\n",
    "\n",
    "var_JSL_re_samp = np.nansum(topog_sample_re ** 2)\n",
    "print('variance of deviation from plane fit (reconstructed) = %3.2e \\n' % var_JSL_re_samp)\n",
    "\n",
    "var_JSL_re_diff = np.nansum(topog_diff_re ** 2)\n",
    "print('variance of deviation from plane fit (reconstructed, plane fit removed) = %3.2e \\n' % var_JSL_re_diff)\n",
    "\n",
    "var_JSL = np.nansum(topog_diff ** 2)\n",
    "print('variance of deviation from plane fit (orginial, plane fit removed) = %3.2e \\n' % var_JSL)"
   ]
  }
 ],
 "metadata": {
  "kernelspec": {
   "display_name": "Python [conda env:analysis3-24.01] *",
   "language": "python",
   "name": "conda-env-analysis3-24.01-py"
  },
  "language_info": {
   "codemirror_mode": {
    "name": "ipython",
    "version": 3
   },
   "file_extension": ".py",
   "mimetype": "text/x-python",
   "name": "python",
   "nbconvert_exporter": "python",
   "pygments_lexer": "ipython3",
   "version": "3.10.13"
  }
 },
 "nbformat": 4,
 "nbformat_minor": 5
}
